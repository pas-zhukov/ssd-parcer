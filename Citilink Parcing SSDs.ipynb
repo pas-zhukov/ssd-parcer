{
 "cells": [
  {
   "cell_type": "code",
   "execution_count": 1,
   "id": "7b1030d5",
   "metadata": {},
   "outputs": [
    {
     "data": {
      "text/plain": [
       "<Response [200]>"
      ]
     },
     "execution_count": 1,
     "metadata": {},
     "output_type": "execute_result"
    }
   ],
   "source": [
    "import requests\n",
    "from bs4 import BeautifulSoup\n",
    "\n",
    "URL = 'https://www.citilink.ru/catalog/ssd-nakopiteli/'\n",
    "URL = requests.head(URL, allow_redirects=True).url\n",
    "requests.get(URL)"
   ]
  },
  {
   "cell_type": "code",
   "execution_count": 2,
   "id": "97839561",
   "metadata": {},
   "outputs": [
    {
     "name": "stdout",
     "output_type": "stream",
     "text": [
      "0\n"
     ]
    }
   ],
   "source": [
    "from ipywidgets import IntProgress\n",
    "from IPython.display import display\n",
    "import tqdm\n",
    "\n",
    "def URLsFromPage(base_url = 'https://www.citilink.ru/catalog/ssd-nakopiteli/'):\n",
    "    \n",
    "    #функция предназначена для извлечения ссылок на каждый товар в опеределенной категории товаров\n",
    "    prgBar = IntProgress(min = 0, max = getPagesAmount(requests.get(base_url).text)) # Создаем прогрессбар\n",
    "    display(prgBar)\n",
    "    \n",
    "    links = [] #список для ссылок на каждый товар\n",
    "    \n",
    "    for page in range(1, getPagesAmount(requests.get(base_url).text)+1, 1):\n",
    "        \n",
    "        URL = base_url + '?p=' + str(page)\n",
    "        \n",
    "        html = requests.get(URL).text\n",
    "    \n",
    "        products_list = BeautifulSoup(html).findAll('a',\n",
    "                                        {'class': 'ProductCardVertical__name Link js--Link Link_type_default'})\n",
    "\n",
    "        for product in products_list:\n",
    "            links.append('https://www.citilink.ru' + BeautifulSoup.get(product, 'href') + 'properties/')\n",
    "        prgBar.value += 1\n",
    "    \n",
    "    return links\n",
    "    \n",
    "    \n",
    "def getPagesAmount(html1):\n",
    "    \n",
    "    pages_amount = BeautifulSoup(html1).find('a', {'class': 'PaginationWidget__page js--PaginationWidget__page PaginationWidget__page_last PaginationWidget__page-link'})\n",
    "\n",
    "    pages_amount = BeautifulSoup.get(pages_amount, 'data-page')\n",
    "\n",
    "    pages_amount = int(pages_amount)\n",
    "    \n",
    "    return pages_amount\n",
    "\n",
    "print(0)"
   ]
  },
  {
   "cell_type": "code",
   "execution_count": 3,
   "id": "bb56c98a",
   "metadata": {},
   "outputs": [
    {
     "data": {
      "application/vnd.jupyter.widget-view+json": {
       "model_id": "ec95788c79114abda6f8fe9c242b08c3",
       "version_major": 2,
       "version_minor": 0
      },
      "text/plain": [
       "IntProgress(value=0, max=11)"
      ]
     },
     "metadata": {},
     "output_type": "display_data"
    }
   ],
   "source": [
    "\n",
    "SSD_LINKS_LIST = URLsFromPage()\n",
    "    "
   ]
  },
  {
   "cell_type": "code",
   "execution_count": 4,
   "id": "58260717",
   "metadata": {},
   "outputs": [
    {
     "data": {
      "text/plain": [
       "485"
      ]
     },
     "execution_count": 4,
     "metadata": {},
     "output_type": "execute_result"
    }
   ],
   "source": [
    "\n",
    "len(SSD_LINKS_LIST)\n"
   ]
  },
  {
   "cell_type": "code",
   "execution_count": 5,
   "id": "83753bb5",
   "metadata": {},
   "outputs": [],
   "source": [
    "import requests\n",
    "import bs4\n",
    "from bs4 import BeautifulSoup\n",
    "import re\n",
    "import time\n",
    "from pyuser_agent import UA\n",
    "\n",
    "def getHTML(URL):\n",
    "    #agent = 'Mozilla/5.0 (Windows; U; Windows NT 6.1; en-US; rv:1.9.3a3pre) Gecko/20100306 Firefox3.6 (.NET CLR 3.5.30729)'\n",
    "    agent = UA().firefox\n",
    "    html = requests.get(URL, headers={'User-Agent': agent}).text\n",
    "    return html\n",
    "\n",
    "def getSpecifications(html):\n",
    "    table = BeautifulSoup(html).find('div', {'class': 'col2 xs-col3 ml-col-start-2 ml-col-3'}).findAll('div', {'class': 'Specifications__row'})\n",
    "    table_2 = {}\n",
    "    for t in table:\n",
    "        name = t.find('div', {'class' : 'Specifications__column Specifications__column_name'}).text.strip()\n",
    "        value = t.find('div', {'class' : 'Specifications__column Specifications__column_value'}).text.strip()\n",
    "        if re.match('Гарантий', name):\n",
    "            name = 'Гарантийное обслуживание'\n",
    "        table_2[name]=value\n",
    "\n",
    "    return table_2"
   ]
  },
  {
   "cell_type": "code",
   "execution_count": 6,
   "id": "1934d225",
   "metadata": {},
   "outputs": [],
   "source": [
    "import requests\n",
    "import bs4\n",
    "from bs4 import BeautifulSoup\n",
    "import re\n",
    "import time\n",
    "\n",
    "\n",
    "def getID(HTML):\n",
    "    try:\n",
    "        num = BeautifulSoup(HTML).find('div', {'class': 'ProductHeader__product-id'}).text\n",
    "    except:\n",
    "        num = BeautifulSoup(HTML).find('div', {'class': 'ProductPageUsersActivity__product-id'}).text\n",
    "    num = num.strip()\n",
    "    num2 = re.split(':', num)\n",
    "    num = num2[1].strip()\n",
    "    return num\n"
   ]
  },
  {
   "cell_type": "code",
   "execution_count": 7,
   "id": "3ac70517",
   "metadata": {},
   "outputs": [
    {
     "name": "stderr",
     "output_type": "stream",
     "text": [
      " 67%|█████████████████████████████████████████████████████▉                          | 327/485 [26:05<12:36,  4.79s/it]\n"
     ]
    },
    {
     "ename": "AttributeError",
     "evalue": "'NoneType' object has no attribute 'text'",
     "output_type": "error",
     "traceback": [
      "\u001b[1;31m---------------------------------------------------------------------------\u001b[0m",
      "\u001b[1;31mAttributeError\u001b[0m                            Traceback (most recent call last)",
      "Input \u001b[1;32mIn [6]\u001b[0m, in \u001b[0;36mgetID\u001b[1;34m(HTML)\u001b[0m\n\u001b[0;32m      9\u001b[0m \u001b[38;5;28;01mtry\u001b[39;00m:\n\u001b[1;32m---> 10\u001b[0m     num \u001b[38;5;241m=\u001b[39m \u001b[43mBeautifulSoup\u001b[49m\u001b[43m(\u001b[49m\u001b[43mHTML\u001b[49m\u001b[43m)\u001b[49m\u001b[38;5;241;43m.\u001b[39;49m\u001b[43mfind\u001b[49m\u001b[43m(\u001b[49m\u001b[38;5;124;43m'\u001b[39;49m\u001b[38;5;124;43mdiv\u001b[39;49m\u001b[38;5;124;43m'\u001b[39;49m\u001b[43m,\u001b[49m\u001b[43m \u001b[49m\u001b[43m{\u001b[49m\u001b[38;5;124;43m'\u001b[39;49m\u001b[38;5;124;43mclass\u001b[39;49m\u001b[38;5;124;43m'\u001b[39;49m\u001b[43m:\u001b[49m\u001b[43m \u001b[49m\u001b[38;5;124;43m'\u001b[39;49m\u001b[38;5;124;43mProductHeader__product-id\u001b[39;49m\u001b[38;5;124;43m'\u001b[39;49m\u001b[43m}\u001b[49m\u001b[43m)\u001b[49m\u001b[38;5;241;43m.\u001b[39;49m\u001b[43mtext\u001b[49m\n\u001b[0;32m     11\u001b[0m \u001b[38;5;28;01mexcept\u001b[39;00m:\n",
      "\u001b[1;31mAttributeError\u001b[0m: 'NoneType' object has no attribute 'text'",
      "\nDuring handling of the above exception, another exception occurred:\n",
      "\u001b[1;31mAttributeError\u001b[0m                            Traceback (most recent call last)",
      "Input \u001b[1;32mIn [7]\u001b[0m, in \u001b[0;36m<cell line: 7>\u001b[1;34m()\u001b[0m\n\u001b[0;32m     10\u001b[0m \u001b[38;5;28;01mtry\u001b[39;00m:\n\u001b[1;32m---> 11\u001b[0m     id_s \u001b[38;5;241m=\u001b[39m \u001b[43mgetID\u001b[49m\u001b[43m(\u001b[49m\u001b[43mhtml\u001b[49m\u001b[43m)\u001b[49m\n\u001b[0;32m     12\u001b[0m \u001b[38;5;28;01mexcept\u001b[39;00m:\n",
      "Input \u001b[1;32mIn [6]\u001b[0m, in \u001b[0;36mgetID\u001b[1;34m(HTML)\u001b[0m\n\u001b[0;32m     11\u001b[0m \u001b[38;5;28;01mexcept\u001b[39;00m:\n\u001b[1;32m---> 12\u001b[0m     num \u001b[38;5;241m=\u001b[39m \u001b[43mBeautifulSoup\u001b[49m\u001b[43m(\u001b[49m\u001b[43mHTML\u001b[49m\u001b[43m)\u001b[49m\u001b[38;5;241;43m.\u001b[39;49m\u001b[43mfind\u001b[49m\u001b[43m(\u001b[49m\u001b[38;5;124;43m'\u001b[39;49m\u001b[38;5;124;43mdiv\u001b[39;49m\u001b[38;5;124;43m'\u001b[39;49m\u001b[43m,\u001b[49m\u001b[43m \u001b[49m\u001b[43m{\u001b[49m\u001b[38;5;124;43m'\u001b[39;49m\u001b[38;5;124;43mclass\u001b[39;49m\u001b[38;5;124;43m'\u001b[39;49m\u001b[43m:\u001b[49m\u001b[43m \u001b[49m\u001b[38;5;124;43m'\u001b[39;49m\u001b[38;5;124;43mProductPageUsersActivity__product-id\u001b[39;49m\u001b[38;5;124;43m'\u001b[39;49m\u001b[43m}\u001b[49m\u001b[43m)\u001b[49m\u001b[38;5;241;43m.\u001b[39;49m\u001b[43mtext\u001b[49m\n\u001b[0;32m     13\u001b[0m num \u001b[38;5;241m=\u001b[39m num\u001b[38;5;241m.\u001b[39mstrip()\n",
      "\u001b[1;31mAttributeError\u001b[0m: 'NoneType' object has no attribute 'text'",
      "\nDuring handling of the above exception, another exception occurred:\n",
      "\u001b[1;31mAttributeError\u001b[0m                            Traceback (most recent call last)",
      "Input \u001b[1;32mIn [6]\u001b[0m, in \u001b[0;36mgetID\u001b[1;34m(HTML)\u001b[0m\n\u001b[0;32m      9\u001b[0m \u001b[38;5;28;01mtry\u001b[39;00m:\n\u001b[1;32m---> 10\u001b[0m     num \u001b[38;5;241m=\u001b[39m \u001b[43mBeautifulSoup\u001b[49m\u001b[43m(\u001b[49m\u001b[43mHTML\u001b[49m\u001b[43m)\u001b[49m\u001b[38;5;241;43m.\u001b[39;49m\u001b[43mfind\u001b[49m\u001b[43m(\u001b[49m\u001b[38;5;124;43m'\u001b[39;49m\u001b[38;5;124;43mdiv\u001b[39;49m\u001b[38;5;124;43m'\u001b[39;49m\u001b[43m,\u001b[49m\u001b[43m \u001b[49m\u001b[43m{\u001b[49m\u001b[38;5;124;43m'\u001b[39;49m\u001b[38;5;124;43mclass\u001b[39;49m\u001b[38;5;124;43m'\u001b[39;49m\u001b[43m:\u001b[49m\u001b[43m \u001b[49m\u001b[38;5;124;43m'\u001b[39;49m\u001b[38;5;124;43mProductHeader__product-id\u001b[39;49m\u001b[38;5;124;43m'\u001b[39;49m\u001b[43m}\u001b[49m\u001b[43m)\u001b[49m\u001b[38;5;241;43m.\u001b[39;49m\u001b[43mtext\u001b[49m\n\u001b[0;32m     11\u001b[0m \u001b[38;5;28;01mexcept\u001b[39;00m:\n",
      "\u001b[1;31mAttributeError\u001b[0m: 'NoneType' object has no attribute 'text'",
      "\nDuring handling of the above exception, another exception occurred:\n",
      "\u001b[1;31mAttributeError\u001b[0m                            Traceback (most recent call last)",
      "Input \u001b[1;32mIn [7]\u001b[0m, in \u001b[0;36m<cell line: 7>\u001b[1;34m()\u001b[0m\n\u001b[0;32m     13\u001b[0m     time\u001b[38;5;241m.\u001b[39msleep(\u001b[38;5;241m60\u001b[39m)\n\u001b[0;32m     14\u001b[0m     html \u001b[38;5;241m=\u001b[39m getHTML(link)\n\u001b[1;32m---> 15\u001b[0m     id_s \u001b[38;5;241m=\u001b[39m \u001b[43mgetID\u001b[49m\u001b[43m(\u001b[49m\u001b[43mhtml\u001b[49m\u001b[43m)\u001b[49m\n\u001b[0;32m     16\u001b[0m specifications \u001b[38;5;241m=\u001b[39m getSpecifications(html)\n\u001b[0;32m     17\u001b[0m file_writer \u001b[38;5;241m=\u001b[39m csv\u001b[38;5;241m.\u001b[39mwriter(w_file, delimiter \u001b[38;5;241m=\u001b[39m \u001b[38;5;124m\"\u001b[39m\u001b[38;5;124m;\u001b[39m\u001b[38;5;124m\"\u001b[39m, lineterminator\u001b[38;5;241m=\u001b[39m\u001b[38;5;124m\"\u001b[39m\u001b[38;5;130;01m\\r\u001b[39;00m\u001b[38;5;124m\"\u001b[39m)\n",
      "Input \u001b[1;32mIn [6]\u001b[0m, in \u001b[0;36mgetID\u001b[1;34m(HTML)\u001b[0m\n\u001b[0;32m     10\u001b[0m     num \u001b[38;5;241m=\u001b[39m BeautifulSoup(HTML)\u001b[38;5;241m.\u001b[39mfind(\u001b[38;5;124m'\u001b[39m\u001b[38;5;124mdiv\u001b[39m\u001b[38;5;124m'\u001b[39m, {\u001b[38;5;124m'\u001b[39m\u001b[38;5;124mclass\u001b[39m\u001b[38;5;124m'\u001b[39m: \u001b[38;5;124m'\u001b[39m\u001b[38;5;124mProductHeader__product-id\u001b[39m\u001b[38;5;124m'\u001b[39m})\u001b[38;5;241m.\u001b[39mtext\n\u001b[0;32m     11\u001b[0m \u001b[38;5;28;01mexcept\u001b[39;00m:\n\u001b[1;32m---> 12\u001b[0m     num \u001b[38;5;241m=\u001b[39m \u001b[43mBeautifulSoup\u001b[49m\u001b[43m(\u001b[49m\u001b[43mHTML\u001b[49m\u001b[43m)\u001b[49m\u001b[38;5;241;43m.\u001b[39;49m\u001b[43mfind\u001b[49m\u001b[43m(\u001b[49m\u001b[38;5;124;43m'\u001b[39;49m\u001b[38;5;124;43mdiv\u001b[39;49m\u001b[38;5;124;43m'\u001b[39;49m\u001b[43m,\u001b[49m\u001b[43m \u001b[49m\u001b[43m{\u001b[49m\u001b[38;5;124;43m'\u001b[39;49m\u001b[38;5;124;43mclass\u001b[39;49m\u001b[38;5;124;43m'\u001b[39;49m\u001b[43m:\u001b[49m\u001b[43m \u001b[49m\u001b[38;5;124;43m'\u001b[39;49m\u001b[38;5;124;43mProductPageUsersActivity__product-id\u001b[39;49m\u001b[38;5;124;43m'\u001b[39;49m\u001b[43m}\u001b[49m\u001b[43m)\u001b[49m\u001b[38;5;241;43m.\u001b[39;49m\u001b[43mtext\u001b[49m\n\u001b[0;32m     13\u001b[0m num \u001b[38;5;241m=\u001b[39m num\u001b[38;5;241m.\u001b[39mstrip()\n\u001b[0;32m     14\u001b[0m num2 \u001b[38;5;241m=\u001b[39m re\u001b[38;5;241m.\u001b[39msplit(\u001b[38;5;124m'\u001b[39m\u001b[38;5;124m:\u001b[39m\u001b[38;5;124m'\u001b[39m, num)\n",
      "\u001b[1;31mAttributeError\u001b[0m: 'NoneType' object has no attribute 'text'"
     ]
    }
   ],
   "source": [
    "import csv\n",
    "from tqdm import tqdm\n",
    "\n",
    "\n",
    "SSD_LIST = []\n",
    "\n",
    "with open(\"ssds.csv\", mode=\"w\", encoding='cp1251') as w_file:\n",
    "    for link in tqdm(SSD_LINKS_LIST):\n",
    "        html = getHTML(link)\n",
    "        try:\n",
    "            id_s = getID(html)\n",
    "        except:\n",
    "            time.sleep(60)\n",
    "            html = getHTML(link)\n",
    "            id_s = getID(html)\n",
    "        specifications = getSpecifications(html)\n",
    "        file_writer = csv.writer(w_file, delimiter = \";\", lineterminator=\"\\r\")\n",
    "        to_write = {'ID': id_s, **specifications}\n",
    "        to_write_mas = []\n",
    "        for k,v in to_write.items():\n",
    "            to_write_mas.append(k + ':' + v)     \n",
    "        file_writer.writerow(to_write_mas)\n",
    "        time.sleep(2)\n",
    "\n",
    "print('Program finished!')"
   ]
  },
  {
   "cell_type": "code",
   "execution_count": 9,
   "id": "ce73465c",
   "metadata": {},
   "outputs": [],
   "source": [
    "with open('html7.txt', 'w', encoding='utf-8') as f:\n",
    "    f.write(html)"
   ]
  },
  {
   "cell_type": "code",
   "execution_count": 45,
   "id": "761e9d0c",
   "metadata": {},
   "outputs": [
    {
     "data": {
      "text/plain": [
       "'https://www.citilink.ru/product/nakopitel-ssd-kingspec-pci-e-512gb-xf-512-m-2-2280-1742087/properties/'"
      ]
     },
     "execution_count": 45,
     "metadata": {},
     "output_type": "execute_result"
    }
   ],
   "source": [
    "link"
   ]
  },
  {
   "cell_type": "code",
   "execution_count": 47,
   "id": "ebffe1e5",
   "metadata": {},
   "outputs": [
    {
     "data": {
      "text/plain": [
       "'Mozilla/5.0 (Android; U; Android; pl; rv:1.9.2.8) Gecko/20100202 Firefox/3.5.8'"
      ]
     },
     "execution_count": 47,
     "metadata": {},
     "output_type": "execute_result"
    }
   ],
   "source": [
    "agent"
   ]
  },
  {
   "cell_type": "code",
   "execution_count": 8,
   "id": "1d9e5e7e",
   "metadata": {},
   "outputs": [
    {
     "data": {
      "text/plain": [
       "'<html>\\n<head>\\n    <title>Загрузка...</title>\\n    <script src=\"https://cdn.jsdelivr.net/npm/js-cookie@2/src/js.cookie.min.js\"></script>\\n    <style>\\n        .loader {\\n            font-size: 10px;\\n            margin: 50px auto;\\n            text-indent: -9999em;\\n            width: 11em;\\n            height: 11em;\\n            border-radius: 50%;\\n            background: #ff7300;\\n            background: -moz-linear-gradient(left, #ff7300 10%, rgba(255,115,0, 0) 42%);\\n            background: -webkit-linear-gradient(left, #ff7300 10%, rgba(255,115,0, 0) 42%);\\n            background: -o-linear-gradient(left, #ff7300 10%, rgba(255,115,0, 0) 42%);\\n            background: -ms-linear-gradient(left, #ff7300 10%, rgba(255,115,0, 0) 42%);\\n            background: linear-gradient(to right, #ff7300 10%, rgba(255,115,0, 0) 42%);\\n            position: relative;\\n            -webkit-animation: load3 1.4s infinite linear;\\n            animation: load3 1.4s infinite linear;\\n            -webkit-transform: translateZ(0);\\n            -ms-transform: translateZ(0);\\n            transform: translateZ(0);\\n        }\\n        .loader:before {\\n            width: 50%;\\n            height: 50%;\\n            background: #ff7300;\\n            border-radius: 100% 0 0 0;\\n            position: absolute;\\n            top: 0;\\n            left: 0;\\n            content: \\'\\';\\n        }\\n        .loader:after {\\n            background: rgba(255,255,255,100%);\\n            width: 75%;\\n            height: 75%;\\n            border-radius: 50%;\\n            content: \\'\\';\\n            margin: auto;\\n            position: absolute;\\n            top: 0;\\n            left: 0;\\n            bottom: 0;\\n            right: 0;\\n        }\\n        @-webkit-keyframes load3 {\\n            0% {\\n                -webkit-transform: rotate(0deg);\\n                transform: rotate(0deg);\\n            }\\n            100% {\\n                -webkit-transform: rotate(360deg);\\n                transform: rotate(360deg);\\n            }\\n        }\\n        @keyframes load3 {\\n            0% {\\n                -webkit-transform: rotate(0deg);\\n                transform: rotate(0deg);\\n            }\\n            100% {\\n                -webkit-transform: rotate(360deg);\\n                transform: rotate(360deg);\\n            }\\n        }\\n    </style>\\n    <script>\\n      document.addEventListener(\"DOMContentLoaded\", function() {\\n        var value = \\'\\';\\n          \\n        var value2 = \\'5We\\';\\n              \\n        value2 = value2.split(\"\").reverse().join(\"\")\\n              \\n\\n        value = value + value2;\\n          \\n        var value2 = \\'jb7\\';\\n              \\n\\n        value = value + value2;\\n          \\n        var value2 = \\'zBR\\';\\n              \\n        value2 = value2.split(\"\").reverse().join(\"\")\\n              \\n\\n        value = value + value2;\\n          \\n        var value2 = \\'LgI\\';\\n              \\n        value2 = value2.split(\"\").reverse().join(\"\")\\n              \\n\\n        value = value + value2;\\n          \\n        var value2 = \\'Rg=\\';\\n              \\n\\n        value = value + value2;\\n          \\n        var value2 = \\'=0b\\';\\n              \\n\\n        value = value + value2;\\n          \\n        var value2 = \\'212\\';\\n              \\n\\n        value = value + value2;\\n          \\n        var value2 = \\'b71\\';\\n              \\n        value2 = value2.split(\"\").reverse().join(\"\")\\n              \\n\\n        value = value + value2;\\n          \\n\\n        var phrase = new Int8Array([\\n            97,-88,3,110,86,29,-93,-42,-35,-97,36,-60,66,-102,-101,116,34,54,-48,84,-22,20,96,-49,12,-11,-52,103,-75,-42,97,-120,-29,39,-93,10,-107,114,-29,103,-4,-29,85,-67,-104,-41,56,115,-36,-86,112,-68,67,-46,-20,78,-34,87,10,-42,-7,55,111,27,104,110,22,118,-73,81,64,46,-91,-49,38,-7,107,8,-124,91,81,-78,67,-118,3,91,19,93,-9,68,37,54,99,94,72,27,2,-113,-24,-74,-7,30,-61,103,-123,93,-83,125,55,-105,58,67,115,37,40,-70,-47,-90,-98,123,80,9,73,123,-22,-81,14,-8,-47,-109,6,98,43,-101,34,125,13,-87,-54,64,-45,-94,-48,50,98,109,94,92,-94,120,-47,99,-75,-5,121,108,83,73,-63,-88,-24,2,74,66,-58,-42,39,99,28,103,-10,-70,-63,84,92,-72,-1,55,63,-61,-3,-48,45,80,-93,-95,-48,-11,94,-69,12,77,29,46,-37,-57,-113,101,45,-29,83,-39,59,-71,-113,105,-79,-94,70,-103,68,-10,111,109,-50,-24,70,-79,-77,-83,110,-88,46,-94,-72,-68,-10,-28,-55,101,-126,8,59,-114,84,-120,78,-15,-103,114,106,-81,-80,88,-115,-71,111,13,14,-9,-99,-47,-8,-51,-121,-109,-41,71,106,-48,-55,-43,-83,92,124,62,78,17,-81,-93,-51,-77,-29,48,-55,-58,-26,72,113,-33,-48,78,18,60,-57,66,-19,30,16,59,50,35,96,-77,-103,-99,-95,114,-16,114,-106,69,-32,41,-58,-125,117,-94,33,-127,3,-95,119,-72,122,-6,112,-51,103,-35,121,-2,78,33,-123,62,110,13,5,63,-41,-83,-30,30,24,95,22,61,-100,-11,-89,90,-123,49,-57,-118,-37,94,-114,-93,-36,123,63,-9,124,-8,-20,70,92,-68,-101,-115,15,96,-70,77,12,-60,92,-48,97,-24,41,-76,27,-96,-34,24,-44,36,-32,-51,44,65,68,107,-4,-7,106,-77,96,-74,-93,57,-75,72,35,39,87,95,-126,-58,67,-24,94,-3,-113,-118,-77,-17,-62,98,43,-120,-66,-55,87,78,-89,96,103,-99,116,88,-75,112,-91,-127,-29,-45,46,-55,40,18,25,45,-41,106,-62,-79,-76,49,89,-115,112,-70,29,27,67,-97,-8,-41,126,-6,73,31,101,-28,30,-103,82,-67,115,-117,-106,-116,23,44,-101,-14,15,-114,-96,46,8,45,-16,-1,119,63,96,-110,41,-104,-63,-98,125,-11,-10,104,-96,-16,60,29,-122,30,37,27,20,18,-37,-112,68,-37,-42,69,-42,-83,122,-122,-57,67,118,-77,-30,108,-119,-101,41,47,10,71,-120,-34,-115,21,-80,-29,-113,-82,-98,-76,1,-104,-34,-30,7,113,73,63,-113,61,-10,-116,-122,-24,23,8,-57,48,-13,-95,63,-78,68,112,72,-108,107,-47,-97,-45,37,114,95,-107,-10,25,-119,-31,90,127,107,-10,-52,-21,-34,-117,103,90,66,-78,115,43,10,86,75,-123,7,-22,28,-112,5,-123,-117,95,43,-37,-117,-93,38,74,-112,49,-121,18,112,-6,-121,-103,44,114,-110,-53,-79,-30,80,107,-50,-98,120,-86,-105,127,49,-113,-53,-26,-115,-52,-106,-24,49,-24,116,69,-74,-100,85,112,108,127,90,119,-37,-115,-100,-105,3,-77,86,-19,123,-104,-64,-120,108,52,-89,-64,75,-41,-127,-66,-114,46,-113,47,-1,19,-61,63,77,24,-68,123,-70,30,-85,-75,-38,90,105,-83,-22,47,99,-112,-4,27,88,42,60,-6,122,-20,29,90,39,-120,96,-84,111,-79,-40,-112,72,-109,-53,26,82,-57,-113,-30,47,17,-92,43,125,17,-63,-20,-39,74,-3,-99,-10,25,-87,46,-33,-120,-55,-31,54,-60,-98,29,111,-61,71,61,-17,-99,-72,-21,-17,91,79,64,-79,90,44,62,111,76,-112,18,-127,-78,112,-17,84,115,-70,125,69,-18,-95,-17,-35,90,104,-126,115,-32,-62,77,-128,24,-127,87,-65,70,-6,53,-10,95,-68,55,107,76,80,90,-67,103,25,26,-30,77,-111,-22,-11,-83,-103,-82,-4,-79,59,-61,-85,89,41,-64,95,-67,-91,74,95,6,-10,22,-104,-71,-45,115,-32,51,-103,-10,-73,-92,14,22,56,111,88,98,30,-78,39,93,-23,41,-16,-123,-23,-74,26,14,99,116,-108,49,63,2,-94,40,-88,-61,-46,14,-3,116,88,-16,-43,-44,-76,88,-73,-121,97,-11,-36,-65,85,-44,70,-45,-86,-48,-33,-109,58,-124,43,1,-79,-29,40,21,96,-27,73,39,59,-28,51,-85,26,-89,-22,-72,-37,-95,-38,-118,10,23,70,-101,115,97,-94,-4,121,94,-82,-109,-48,-2,46,71,59,98,-10,-70,7,58,-43,-83,126,57,100,6,126,-27,92,-15,-51,-104,-14,89,-3,106,-114,-28,86,-65,-48,-13,-65,54,56,119,-47,71,42,35,7,-8,-108,-60,-15,24,55,-106,-7,-83,58,98,85,-20,-16,75,1,-70,-7,-14,-57,102,58,-80,96,-28,-122,-113,94,81,-19,65,-4,62,101,-60,125,-35,-45,25,-46,-34,-10,-125,48,-96,-64,56,11,97,-122,77,64,87,72,35,13,-6,-51,-102,99,-114,-118,-119,\\n        ]);\\n        var data = new Int8Array(536870912);\\n        for(var i = 0; i < data.length; i+=1024) {\\n          data.set(phrase, i);\\n        }\\n\\n        \\n            for(var i = 723; i < data.length; i+=1024) {\\n              data[i] = data[i] + 88 > 127 ? data[i] -128 + 88 : data[i] + 88;\\n            }\\n        \\n            for(var i = 214; i < data.length; i+=1024) {\\n              data[i] = data[i] + 46 > 127 ? data[i] -128 + 46 : data[i] + 46;\\n            }\\n        \\n            for(var i = 261; i < data.length; i+=1024) {\\n              data[i] = data[i] + 100 > 127 ? data[i] -128 + 100 : data[i] + 100;\\n            }\\n        \\n            for(var i = 822; i < data.length; i+=1024) {\\n              data[i] = data[i] + 4 > 127 ? data[i] -128 + 4 : data[i] + 4;\\n            }\\n        \\n\\n        var sum = 0;\\n        for(var i = 0; i < data.length; i++) {\\n          if (data[i] === -47) {\\n            sum++;\\n          }\\n        }\\n\\n        console.info(\\'Calculated checksum\\', sum);\\n\\n        var sumStr = `${sum}`;\\n        var trimR = 5;\\n        for (var i = sumStr.length - 1; i >= 0; i--) {\\n          var trimSize = parseInt(sumStr[i], 10);\\n          if (trimSize > 0) {\\n            trimR = trimSize;\\n            break;\\n          }\\n        }\\n\\n        console.info(\\'Calculated trim\\', trimR);\\n        value = value.substring(0, value.length - trimR);\\n\\n        var config = document.getElementById(\\'el54859\\').dataset;\\n        Cookies.set(config.name, value, {\\n          domain: config.domain,\\n          expires: new Date(new Date().getTime() + 60 * 60 * 1000),\\n        });\\n        document.location.reload()\\n      });\\n    </script>\\n</head>\\n<body>\\n    <div id=\"el54859\" data-name=\"_pcl\" data-domain=\".citilink.ru\"></div>\\n    <div class=\"loader\">Загрузка...</div>\\n</body>\\n</html>'"
      ]
     },
     "execution_count": 8,
     "metadata": {},
     "output_type": "execute_result"
    }
   ],
   "source": [
    "html"
   ]
  },
  {
   "cell_type": "code",
   "execution_count": null,
   "id": "9be2f705",
   "metadata": {},
   "outputs": [],
   "source": []
  }
 ],
 "metadata": {
  "kernelspec": {
   "display_name": "Python 3 (ipykernel)",
   "language": "python",
   "name": "python3"
  },
  "language_info": {
   "codemirror_mode": {
    "name": "ipython",
    "version": 3
   },
   "file_extension": ".py",
   "mimetype": "text/x-python",
   "name": "python",
   "nbconvert_exporter": "python",
   "pygments_lexer": "ipython3",
   "version": "3.9.12"
  }
 },
 "nbformat": 4,
 "nbformat_minor": 5
}
