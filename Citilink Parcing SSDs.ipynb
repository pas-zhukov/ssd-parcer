{
 "cells": [
  {
   "cell_type": "code",
   "execution_count": 1,
   "id": "7b1030d5",
   "metadata": {},
   "outputs": [
    {
     "data": {
      "text/plain": [
       "<Response [200]>"
      ]
     },
     "execution_count": 1,
     "metadata": {},
     "output_type": "execute_result"
    }
   ],
   "source": [
    "import requests\n",
    "from bs4 import BeautifulSoup\n",
    "\n",
    "URL = 'https://www.citilink.ru/catalog/ssd-nakopiteli/'\n",
    "\n",
    "URL = requests.head(URL, allow_redirects=True).url\n",
    "\n",
    "#print(URL)\n",
    "\n",
    "html1 = requests.get(URL).text\n",
    "\n",
    "products_list = BeautifulSoup(html1).find('div', {'class': 'ProductCardCategoryList__grid-container'})\n",
    "\n",
    "#products_list = BeautifulSoup(html1).findAll('div', {'class': 'product_data__gtm-js product_data__pageevents-js  ProductCardVertical js--ProductCardInListing ProductCardVertical_normal ProductCardVertical_shadow-hover ProductCardVertical_separated'})\n",
    "\n",
    "#print(products_list)\n",
    "\n",
    "html1 = requests.get(URL)\n",
    "html1"
   ]
  },
  {
   "cell_type": "code",
   "execution_count": 8,
   "id": "97839561",
   "metadata": {},
   "outputs": [
    {
     "name": "stdout",
     "output_type": "stream",
     "text": [
      "0\n"
     ]
    },
    {
     "data": {
      "application/vnd.jupyter.widget-view+json": {
       "model_id": "266fbf2a118b4c2fa6ef9364138d7fae",
       "version_major": 2,
       "version_minor": 0
      },
      "text/plain": [
       "IntProgress(value=0, max=11)"
      ]
     },
     "metadata": {},
     "output_type": "display_data"
    }
   ],
   "source": [
    "from ipywidgets import IntProgress\n",
    "from IPython.display import display\n",
    "import tqdm\n",
    "\n",
    "def URLsFromPage(base_url = 'https://www.citilink.ru/catalog/ssd-nakopiteli/'):\n",
    "    \n",
    "     #функция предназначена для извлечения ссылок на каждый товар в опеределенной категории товаров\n",
    "    prgBar = IntProgress(min = 0, max = getPagesAmount(requests.get(base_url).text)) # Создаем прогрессбар\n",
    "    display(prgBar)\n",
    "    \n",
    "    links = [] #список для ссылок на каждый товар\n",
    "    \n",
    "    for page in range(1, getPagesAmount(requests.get(base_url).text)+1, 1):\n",
    "        \n",
    "        URL = base_url + '?p=' + str(page)\n",
    "        \n",
    "        html = requests.get(URL).text\n",
    "    \n",
    "        products_list = BeautifulSoup(html).findAll('a',\n",
    "                                        {'class': 'ProductCardVertical__name Link js--Link Link_type_default'})\n",
    "\n",
    "        for product in products_list:\n",
    "            links.append('https://www.citilink.ru' + BeautifulSoup.get(product, 'href') + 'properties/')\n",
    "        prgBar.value += 1\n",
    "    \n",
    "    return links\n",
    "    \n",
    "    \n",
    "def getPagesAmount(html1):\n",
    "    \n",
    "    pages_amount = BeautifulSoup(html1).find('a', {'class': 'PaginationWidget__page js--PaginationWidget__page PaginationWidget__page_last PaginationWidget__page-link'})\n",
    "\n",
    "    pages_amount = BeautifulSoup.get(pages_amount, 'data-page')\n",
    "\n",
    "    pages_amount = int(pages_amount)\n",
    "    \n",
    "    return pages_amount\n",
    "\n",
    "print(0)\n",
    "\n",
    "\n",
    "\n",
    "SSD_LINKS_LIST = URLsFromPage()"
   ]
  },
  {
   "cell_type": "code",
   "execution_count": 6,
   "id": "bb56c98a",
   "metadata": {},
   "outputs": [
    {
     "ename": "TypeError",
     "evalue": "'module' object is not callable",
     "output_type": "error",
     "traceback": [
      "\u001b[1;31m---------------------------------------------------------------------------\u001b[0m",
      "\u001b[1;31mTypeError\u001b[0m                                 Traceback (most recent call last)",
      "Input \u001b[1;32mIn [6]\u001b[0m, in \u001b[0;36m<cell line: 1>\u001b[1;34m()\u001b[0m\n\u001b[1;32m----> 1\u001b[0m SSD_LINKS_LIST \u001b[38;5;241m=\u001b[39m \u001b[43mURLsFromPage\u001b[49m\u001b[43m(\u001b[49m\u001b[43m)\u001b[49m\n",
      "Input \u001b[1;32mIn [4]\u001b[0m, in \u001b[0;36mURLsFromPage\u001b[1;34m(base_url)\u001b[0m\n\u001b[0;32m      3\u001b[0m \u001b[38;5;28;01mdef\u001b[39;00m \u001b[38;5;21mURLsFromPage\u001b[39m(base_url \u001b[38;5;241m=\u001b[39m \u001b[38;5;124m'\u001b[39m\u001b[38;5;124mhttps://www.citilink.ru/catalog/ssd-nakopiteli/\u001b[39m\u001b[38;5;124m'\u001b[39m):\n\u001b[0;32m      4\u001b[0m     \n\u001b[0;32m      5\u001b[0m      \u001b[38;5;66;03m#функция предназначена для извлечения ссылок на каждый товар в опеределенной категории товаров\u001b[39;00m\n\u001b[0;32m      8\u001b[0m     links \u001b[38;5;241m=\u001b[39m [] \u001b[38;5;66;03m#список для ссылок на каждый товар\u001b[39;00m\n\u001b[1;32m---> 10\u001b[0m     \u001b[38;5;28;01mfor\u001b[39;00m page \u001b[38;5;129;01min\u001b[39;00m \u001b[43mtqdm\u001b[49m\u001b[43m(\u001b[49m\u001b[38;5;28;43mrange\u001b[39;49m\u001b[43m(\u001b[49m\u001b[38;5;241;43m1\u001b[39;49m\u001b[43m,\u001b[49m\u001b[43m \u001b[49m\u001b[43mgetPagesAmount\u001b[49m\u001b[43m(\u001b[49m\u001b[43mrequests\u001b[49m\u001b[38;5;241;43m.\u001b[39;49m\u001b[43mget\u001b[49m\u001b[43m(\u001b[49m\u001b[43mbase_url\u001b[49m\u001b[43m)\u001b[49m\u001b[38;5;241;43m.\u001b[39;49m\u001b[43mtext\u001b[49m\u001b[43m)\u001b[49m\u001b[38;5;241;43m+\u001b[39;49m\u001b[38;5;241;43m1\u001b[39;49m\u001b[43m,\u001b[49m\u001b[43m \u001b[49m\u001b[38;5;241;43m1\u001b[39;49m\u001b[43m)\u001b[49m\u001b[43m)\u001b[49m:\n\u001b[0;32m     12\u001b[0m         URL \u001b[38;5;241m=\u001b[39m base_url \u001b[38;5;241m+\u001b[39m \u001b[38;5;124m'\u001b[39m\u001b[38;5;124m?p=\u001b[39m\u001b[38;5;124m'\u001b[39m \u001b[38;5;241m+\u001b[39m \u001b[38;5;28mstr\u001b[39m(page)\n\u001b[0;32m     14\u001b[0m         html \u001b[38;5;241m=\u001b[39m requests\u001b[38;5;241m.\u001b[39mget(URL)\u001b[38;5;241m.\u001b[39mtext\n",
      "\u001b[1;31mTypeError\u001b[0m: 'module' object is not callable"
     ]
    }
   ],
   "source": [
    "\n",
    "SSD_LINKS_LIST = URLsFromPage()\n",
    "    "
   ]
  },
  {
   "cell_type": "code",
   "execution_count": 9,
   "id": "58260717",
   "metadata": {},
   "outputs": [
    {
     "data": {
      "text/plain": [
       "488"
      ]
     },
     "execution_count": 9,
     "metadata": {},
     "output_type": "execute_result"
    }
   ],
   "source": [
    "\n",
    "len(SSD_LINKS_LIST)\n"
   ]
  },
  {
   "cell_type": "code",
   "execution_count": 2,
   "id": "0555cf65",
   "metadata": {},
   "outputs": [
    {
     "name": "stdout",
     "output_type": "stream",
     "text": [
      "Defaulting to user installation because normal site-packages is not writeableNote: you may need to restart the kernel to use updated packages.\n",
      "Collecting pyuser-agent\n",
      "  Downloading pyuser_agent-0.1.0-py3-none-any.whl (87 kB)\n",
      "Installing collected packages: pyuser-agent\n",
      "Successfully installed pyuser-agent-0.1.0\n",
      "\n"
     ]
    }
   ],
   "source": [
    "pip install pyuser-agent"
   ]
  },
  {
   "cell_type": "code",
   "execution_count": 19,
   "id": "83753bb5",
   "metadata": {},
   "outputs": [
    {
     "name": "stdout",
     "output_type": "stream",
     "text": [
      "Mozilla/5.0 (X11; U; SunOS i86pc; en-US; rv:1.9.0.4) Gecko/2008111710 Firefox/3.0.4\n"
     ]
    },
    {
     "data": {
      "text/plain": [
       "{'Брэнд': 'A-DATA',\n",
       " 'Модель': 'ASU650SS-240GT-R',\n",
       " 'Тип жесткого диска': 'SSD',\n",
       " 'Объем накопителя': '240 ГБ',\n",
       " 'Форм-фактор': '2.5\"',\n",
       " 'Интерфейс': 'SATA III',\n",
       " 'Тип памяти NAND': '3D NAND',\n",
       " 'Максимальная скорость чтения': '520 МБ/с',\n",
       " 'Максимальная скорость записи': '450 МБ/с',\n",
       " 'Скорость произвольного чтения (4KB) (IOPS)': '40000',\n",
       " 'Скорость произвольной записи (4KB) (IOPS)': '75000',\n",
       " 'Ресурс TBW': '140 ТБ',\n",
       " 'Время наработки на отказ': '2000000 ч',\n",
       " 'Толщина': '7 мм',\n",
       " 'Вес упаковки (ед)': '0.132 кг',\n",
       " 'Гарантийное обслуживание\\n                                                \\n                                                                                                                                                                                                        \\n\\n    \\n    \\n    \\n    \\n    \\n        Гарантийное обслуживание – бесплатное устранение заводских недостатков, выявленных в течение установленного гарантийного срока. Гарантию может предоставлять как продавец, так и производитель.«Гарантия СЦ производителя» - покупатель вправе обратиться с претензией как к продавцу, так и в специализированный сервисный центр бренда.«Гарантия продавца» - сервисное обслуживание предоставляется только Ситилинком в течение указанного срока гарантии. \\nОбратите внимание: в ряде случаев срок гарантии может отличаться от срока, указанного на официальном сайте бренда. Такой товар чаще всего ввезен по процедуре «параллельного импорта», гарантия бренда на него не распространяется.*Что такое «Параллельный импорт»?Это товар, ввезенный на территорию Российской Федерации в рамках процедуры «параллельного импорта» без согласия правообладателя, но из стран, где продажа данного товара легальна и сертифицирована.\\nПоскольку такой товар ориентирован для реализации на территории других государств, гарантийные обязательства производителя на него на территории Российской Федерации не действуют. Этот товар не принимается на гарантийное обслуживание авторизированными сервисными центрами производителя. Все претензии по качеству товара в течение указанного гарантийного срока необходимо предъявлять продавцу.': 'Гарантия продавца',\n",
       " 'Гарантия': '36 мес.'}"
      ]
     },
     "execution_count": 19,
     "metadata": {},
     "output_type": "execute_result"
    }
   ],
   "source": [
    "import requests\n",
    "import bs4\n",
    "from bs4 import BeautifulSoup\n",
    "import re\n",
    "import time\n",
    "from fake_useragent import UserAgent\n",
    "from pyuser_agent import UA\n",
    "\n",
    "URL = 'https://www.citilink.ru/product/ssd-nakopitel-a-data-ultimate-su650-asu650ss-240gt-r-240gb-2-5-sata-ii-1091578/properties/'\n",
    "\n",
    "agent = UA().firefox\n",
    "print(agent)\n",
    "\n",
    "html = requests.get(URL, headers={'User-Agent': agent}).text\n",
    "table = BeautifulSoup(html).find('div', {'class': 'col2 xs-col3 ml-col-start-2 ml-col-3'}).findAll('div', {'class': 'Specifications__row'})\n",
    "table_2 = {}\n",
    "for t in table:\n",
    "    name = t.find('div', {'class' : 'Specifications__column Specifications__column_name'}).text.strip()\n",
    "    value = t.find('div', {'class' : 'Specifications__column Specifications__column_value'}).text.strip()\n",
    "    table_2[name]=value\n",
    "    \n",
    "table_2"
   ]
  },
  {
   "cell_type": "code",
   "execution_count": 16,
   "id": "3f9bc7b4",
   "metadata": {
    "scrolled": true
   },
   "outputs": [],
   "source": [
    "for t in table:\n",
    "    name = t.find('div', {'class' : 'Specifications__column Specifications__column_name'}).text\n",
    "    value = t.find('div', {'class' : 'Specifications__column Specifications__column_value'}).text\n",
    "    table_2[name]=value"
   ]
  },
  {
   "cell_type": "code",
   "execution_count": 31,
   "id": "1934d225",
   "metadata": {},
   "outputs": [
    {
     "ename": "KeyboardInterrupt",
     "evalue": "",
     "output_type": "error",
     "traceback": [
      "\u001b[1;31m---------------------------------------------------------------------------\u001b[0m",
      "\u001b[1;31mKeyboardInterrupt\u001b[0m                         Traceback (most recent call last)",
      "Input \u001b[1;32mIn [31]\u001b[0m, in \u001b[0;36m<cell line: 126>\u001b[1;34m()\u001b[0m\n\u001b[0;32m    121\u001b[0m     price2 \u001b[38;5;241m=\u001b[39m BeautifulSoup\u001b[38;5;241m.\u001b[39mgetText(price)\n\u001b[0;32m    123\u001b[0m     \u001b[38;5;28;01mreturn\u001b[39;00m \u001b[38;5;28mint\u001b[39m(price2)\n\u001b[1;32m--> 126\u001b[0m \u001b[43mgetSpeed\u001b[49m\u001b[43m(\u001b[49m\u001b[43mURL\u001b[49m\u001b[43m)\u001b[49m\n",
      "Input \u001b[1;32mIn [31]\u001b[0m, in \u001b[0;36mgetSpeed\u001b[1;34m(URL)\u001b[0m\n\u001b[0;32m     93\u001b[0m \u001b[38;5;28;01mif\u001b[39;00m \u001b[38;5;28misinstance\u001b[39m(vol, bs4\u001b[38;5;241m.\u001b[39melement\u001b[38;5;241m.\u001b[39mTag) \u001b[38;5;241m==\u001b[39m \u001b[38;5;28;01mFalse\u001b[39;00m:\n\u001b[0;32m     94\u001b[0m     \u001b[38;5;28;01mwhile\u001b[39;00m \u001b[38;5;28misinstance\u001b[39m(vol, bs4\u001b[38;5;241m.\u001b[39melement\u001b[38;5;241m.\u001b[39mTag) \u001b[38;5;241m==\u001b[39m \u001b[38;5;28;01mFalse\u001b[39;00m:\n\u001b[1;32m---> 95\u001b[0m         \u001b[43mtime\u001b[49m\u001b[38;5;241;43m.\u001b[39;49m\u001b[43msleep\u001b[49m\u001b[43m(\u001b[49m\u001b[38;5;241;43m5\u001b[39;49m\u001b[43m)\u001b[49m\n\u001b[0;32m     96\u001b[0m         html_f \u001b[38;5;241m=\u001b[39m requests\u001b[38;5;241m.\u001b[39mget(URL)\u001b[38;5;241m.\u001b[39mtext\n\u001b[0;32m     97\u001b[0m         vol_list \u001b[38;5;241m=\u001b[39m BeautifulSoup(html_f)\u001b[38;5;241m.\u001b[39mfindAll(\u001b[38;5;124m'\u001b[39m\u001b[38;5;124mdiv\u001b[39m\u001b[38;5;124m'\u001b[39m, {\u001b[38;5;124m'\u001b[39m\u001b[38;5;124mclass\u001b[39m\u001b[38;5;124m'\u001b[39m: \u001b[38;5;124m'\u001b[39m\u001b[38;5;124mSpecifications__row\u001b[39m\u001b[38;5;124m'\u001b[39m})\n",
      "\u001b[1;31mKeyboardInterrupt\u001b[0m: "
     ]
    }
   ],
   "source": [
    "import requests\n",
    "import bs4\n",
    "from bs4 import BeautifulSoup\n",
    "import re\n",
    "import time\n",
    "\n",
    "URL = 'https://www.citilink.ru/product/ssd-nakopitel-a-data-ultimate-su650-asu650ss-240gt-r-240gb-2-5-sata-ii-1091578/properties/'\n",
    "\n",
    "\n",
    "html = requests.get(URL).text\n",
    "\n",
    "class ssd():\n",
    "    def __init__(self, num, vol, speed, price):\n",
    "        self.num = num\n",
    "        self.vol = vol\n",
    "        self.speed = speed\n",
    "        self.price = price\n",
    "        \n",
    "    def __str__(self):\n",
    "        return str({'num': str(self.num), 'vol': str(self.vol), 'speed': str(self.speed), 'price': str(self.price)})\n",
    "\n",
    "\n",
    "\n",
    "def getID(URL):\n",
    "    html_f = requests.get(URL).text\n",
    "    num0 = BeautifulSoup(html_f).find('div', {'class': 'ProductPageUsersActivity__product-id'})\n",
    "    #print(type(num0))\n",
    "    #print(num0)\n",
    "    if isinstance(num0, bs4.element.Tag) == False:\n",
    "        while isinstance(num0, bs4.element.Tag) == False:\n",
    "            time.sleep(5)\n",
    "            html_f = requests.get(URL).text\n",
    "            num0 = BeautifulSoup(html_f).find('div', {'class': 'ProductPageUsersActivity__product-id'})\n",
    "    #print('after:')\n",
    "    #print(type(num0))\n",
    "    #print(num0)\n",
    "        \n",
    "\n",
    "    num = BeautifulSoup.getText(num0)\n",
    "\n",
    "    num = num.strip()\n",
    "\n",
    "    num2 = re.split(': ', num)\n",
    "    num = num2[1]\n",
    "    return num\n",
    "\n",
    "def getVolume(URL):\n",
    "    html_f = requests.get(URL).text\n",
    "    vol = ''\n",
    "    vol_list = BeautifulSoup(html_f).findAll('div', {'class': 'Specifications__row'})\n",
    "    for v in vol_list:\n",
    "        match = re.search('Объем накопителя', str(v))\n",
    "        if match:\n",
    "            vol = v\n",
    "            \n",
    "            \n",
    "    vol = BeautifulSoup(str(vol)).find('div', {'class': 'Specifications__column Specifications__column_value'})\n",
    "    \n",
    "    if isinstance(vol, bs4.element.Tag) == False:\n",
    "        while isinstance(vol, bs4.element.Tag) == False:\n",
    "            time.sleep(5)\n",
    "            html_f = requests.get(URL).text\n",
    "            vol_list = BeautifulSoup(html_f).findAll('div', {'class': 'Specifications__row'})\n",
    "            for v in vol_list:\n",
    "                match = re.search('Объем накопителя', str(v))\n",
    "                if match:\n",
    "                    vol = v\n",
    "            vol = BeautifulSoup(str(vol)).find('div', {'class': 'Specifications__column Specifications__column_value'})\n",
    "    \n",
    "    \n",
    "    \n",
    "    vol2 = BeautifulSoup.getText(vol)\n",
    "    \n",
    "    \n",
    "    vol2 = vol2.strip()\n",
    "    vol2 = re.split(' ', vol2)\n",
    "    vol = int(vol2[0])\n",
    "    return vol\n",
    "\n",
    "def getSpeed(URL):\n",
    "    html_f = requests.get(URL).text\n",
    "    vol = ''\n",
    "    vol_list = BeautifulSoup(html_f).findAll('div', {'class': 'Specifications__row'})\n",
    "    #print(type(vol_list))\n",
    "    for v in vol_list:\n",
    "        match = re.search('Максимальная скорость чтения', str(v))\n",
    "        if match:\n",
    "            vol = v\n",
    "            \n",
    "            \n",
    "    vol = BeautifulSoup(str(vol)).find('div', {'class': 'Specifications__column Specifications__column_value'})\n",
    "    \n",
    "    if isinstance(vol, bs4.element.Tag) == False:\n",
    "        while isinstance(vol, bs4.element.Tag) == False:\n",
    "            time.sleep(5)\n",
    "            html_f = requests.get(URL).text\n",
    "            vol_list = BeautifulSoup(html_f).findAll('div', {'class': 'Specifications__row'})\n",
    "            #print(type(vol_list))\n",
    "            for v in vol_list:\n",
    "                match = re.search('Максимальная скорость чтения', str(v))\n",
    "                if match:\n",
    "                    vol = v\n",
    "            vol = BeautifulSoup(str(vol)).find('div', {'class': 'Specifications__column Specifications__column_value'})\n",
    "    \n",
    "    \n",
    "    vol2 = BeautifulSoup.getText(vol)\n",
    "    vol2 = vol2.strip()\n",
    "    vol2 = re.split(' ', vol2)\n",
    "    vol = int(vol2[0])\n",
    "    return vol\n",
    "    \n",
    "def getPrice(URL):\n",
    "    html_f = requests.get(URL).text\n",
    "    price = BeautifulSoup(html_f).find('span', {'class': 'ProductPagePriceSection__default-price_current-price js--ProductPagePriceSection__default-price_current-price ProductPagePriceSection__default-price-value'})\n",
    "    if isinstance(price, bs4.element.Tag) == False:\n",
    "        while isinstance(price, bs4.element.Tag) == False:\n",
    "            time.sleep(5)\n",
    "            html_f = requests.get(URL).text\n",
    "            price = BeautifulSoup(html_f).find('span', {'class': 'ProductPagePriceSection__default-price_current-price js--ProductPagePriceSection__default-price_current-price ProductPagePriceSection__default-price-value'})\n",
    "    \n",
    "    price2 = BeautifulSoup.getText(price)\n",
    "    \n",
    "    return int(price2)\n",
    "\n",
    "\n",
    "getSpeed(URL)"
   ]
  },
  {
   "cell_type": "markdown",
   "id": "95884b8f",
   "metadata": {},
   "source": [
    "Массив с ссылками получен. Функции для получения данных со страницы по каждой ссылке есть. Класс для описания ssd есть. Пора это всё обработать!"
   ]
  },
  {
   "cell_type": "code",
   "execution_count": 12,
   "id": "3ac70517",
   "metadata": {},
   "outputs": [
    {
     "data": {
      "application/vnd.jupyter.widget-view+json": {
       "model_id": "f0a1a4aa1a4640e4b243d6af23d5daeb",
       "version_major": 2,
       "version_minor": 0
      },
      "text/plain": [
       "IntProgress(value=0, max=499)"
      ]
     },
     "metadata": {},
     "output_type": "display_data"
    },
    {
     "ename": "NameError",
     "evalue": "name 'tqdm' is not defined",
     "output_type": "error",
     "traceback": [
      "\u001b[1;31m---------------------------------------------------------------------------\u001b[0m",
      "\u001b[1;31mNameError\u001b[0m                                 Traceback (most recent call last)",
      "Input \u001b[1;32mIn [12]\u001b[0m, in \u001b[0;36m<cell line: 10>\u001b[1;34m()\u001b[0m\n\u001b[0;32m      8\u001b[0m SSD_LIST \u001b[38;5;241m=\u001b[39m []\n\u001b[0;32m     10\u001b[0m \u001b[38;5;28;01mwith\u001b[39;00m \u001b[38;5;28mopen\u001b[39m(\u001b[38;5;124m\"\u001b[39m\u001b[38;5;124mssds.csv\u001b[39m\u001b[38;5;124m\"\u001b[39m, mode\u001b[38;5;241m=\u001b[39m\u001b[38;5;124m\"\u001b[39m\u001b[38;5;124mw\u001b[39m\u001b[38;5;124m\"\u001b[39m, encoding\u001b[38;5;241m=\u001b[39m\u001b[38;5;124m'\u001b[39m\u001b[38;5;124mutf-8\u001b[39m\u001b[38;5;124m'\u001b[39m) \u001b[38;5;28;01mas\u001b[39;00m w_file:\n\u001b[1;32m---> 11\u001b[0m     \u001b[38;5;28;01mfor\u001b[39;00m link \u001b[38;5;129;01min\u001b[39;00m \u001b[43mtqdm\u001b[49m(SSD_LINKS_LIST):\n\u001b[0;32m     12\u001b[0m         html \u001b[38;5;241m=\u001b[39m requests\u001b[38;5;241m.\u001b[39mget(link)\u001b[38;5;241m.\u001b[39mtext\n\u001b[0;32m     13\u001b[0m         time\u001b[38;5;241m.\u001b[39msleep(\u001b[38;5;241m1\u001b[39m)\n",
      "\u001b[1;31mNameError\u001b[0m: name 'tqdm' is not defined"
     ]
    }
   ],
   "source": [
    "from ipywidgets import IntProgress\n",
    "from IPython.display import display\n",
    "import csv\n",
    "\n",
    "prgBar = IntProgress(min = 0, max = 499) # Создаем прогрессбар\n",
    "display(prgBar)\n",
    "\n",
    "SSD_LIST = []\n",
    "\n",
    "with open(\"ssds.csv\", mode=\"w\", encoding='utf-8') as w_file:\n",
    "    for link in SSD_LINKS_LIST:\n",
    "        html = requests.get(link).text\n",
    "        time.sleep(1)\n",
    "        id_s = getID(link)\n",
    "        time.sleep(1)\n",
    "        vol = getVolume(link)\n",
    "        time.sleep(1)\n",
    "        speed = getSpeed(link)\n",
    "        time.sleep(1)\n",
    "        price = getPrice(link)\n",
    "        SSD_LIST.append(ssd(id_s, vol, speed, price))\n",
    "    \n",
    "    \n",
    "        file_writer = csv.writer(w_file, delimiter = \";\", lineterminator=\"\\r\")\n",
    "        file_writer.writerow([id_s, vol, speed, price])\n",
    "    \n",
    "    \n",
    "    \n",
    "        prgBar.value += 1\n",
    "        time.sleep(1)\n",
    "\n",
    "SSD_LIST"
   ]
  },
  {
   "cell_type": "code",
   "execution_count": 26,
   "id": "f621dd68",
   "metadata": {},
   "outputs": [
    {
     "data": {
      "text/plain": [
       "'[<__main__.ssd object at 0x0000022F1A8425B0>, <__main__.ssd object at 0x0000022F1A842040>, <__main__.ssd object at 0x0000022F1A842BE0>, <__main__.ssd object at 0x0000022F1A8423A0>, <__main__.ssd object at 0x0000022F1A842190>, <__main__.ssd object at 0x0000022F1A842D00>, <__main__.ssd object at 0x0000022F155CE6D0>, <__main__.ssd object at 0x0000022F155CE370>, <__main__.ssd object at 0x0000022F155CE400>, <__main__.ssd object at 0x0000022F155CE4C0>, <__main__.ssd object at 0x0000022F155CE2E0>, <__main__.ssd object at 0x0000022F155CE160>, <__main__.ssd object at 0x0000022F155CE1F0>, <__main__.ssd object at 0x0000022F155CE1C0>, <__main__.ssd object at 0x0000022F155CEDF0>, <__main__.ssd object at 0x0000022F155CE970>, <__main__.ssd object at 0x0000022F155CEC40>, <__main__.ssd object at 0x0000022F155CED60>, <__main__.ssd object at 0x0000022F155CE580>, <__main__.ssd object at 0x0000022F155CE520>, <__main__.ssd object at 0x0000022F155CE070>, <__main__.ssd object at 0x0000022F155CE700>, <__main__.ssd object at 0x0000022F155CE340>, <__main__.ssd object at 0x0000022F155CE730>, <__main__.ssd object at 0x0000022F155CEDC0>, <__main__.ssd object at 0x0000022F155CEF10>, <__main__.ssd object at 0x0000022F155CEBE0>, <__main__.ssd object at 0x0000022F155CE3D0>, <__main__.ssd object at 0x0000022F155CE850>, <__main__.ssd object at 0x0000022F155CE5B0>, <__main__.ssd object at 0x0000022F155CE3A0>, <__main__.ssd object at 0x0000022F155CE220>, <__main__.ssd object at 0x0000022F155CEA60>, <__main__.ssd object at 0x0000022F155CECA0>, <__main__.ssd object at 0x0000022F155CE2B0>, <__main__.ssd object at 0x0000022F155CE250>, <__main__.ssd object at 0x0000022F155CEA90>, <__main__.ssd object at 0x0000022F155CE640>, <__main__.ssd object at 0x0000022F155CE9D0>, <__main__.ssd object at 0x0000022F155CE820>, <__main__.ssd object at 0x0000022F155CE610>]'"
      ]
     },
     "execution_count": 26,
     "metadata": {},
     "output_type": "execute_result"
    }
   ],
   "source": [
    "\n",
    "ssd_listik = []\n",
    "with open(\"ssds.csv\", encoding='utf-8') as r_file:\n",
    "    # Создаем объект reader, указываем символ-разделитель \",\"\n",
    "    file_reader = csv.reader(r_file, delimiter = \";\")\n",
    "    # Считывание данных из CSV файла\n",
    "    for row in file_reader:\n",
    "        ssd_listik.append(ssd(row[0], row[1], row[2], row[3]))\n",
    "    \n",
    "    \n",
    "str(ssd_listik)\n",
    "\n"
   ]
  },
  {
   "cell_type": "code",
   "execution_count": 13,
   "id": "71461322",
   "metadata": {},
   "outputs": [
    {
     "name": "stdout",
     "output_type": "stream",
     "text": [
      "<Response [200]>\n",
      "<function get_free_proxies at 0x0000024A86CA0790>\n"
     ]
    },
    {
     "ename": "ProxyError",
     "evalue": "HTTPSConnectionPool(host='whoer.net', port=443): Max retries exceeded with url: / (Caused by ProxyError('Cannot connect to proxy.', NewConnectionError('<urllib3.connection.HTTPSConnection object at 0x0000024A876FB640>: Failed to establish a new connection: [WinError 10061] Подключение не установлено, т.к. конечный компьютер отверг запрос на подключение')))",
     "output_type": "error",
     "traceback": [
      "\u001b[1;31m---------------------------------------------------------------------------\u001b[0m",
      "\u001b[1;31mConnectionRefusedError\u001b[0m                    Traceback (most recent call last)",
      "File \u001b[1;32mC:\\ProgramData\\Anaconda3\\lib\\site-packages\\urllib3\\connection.py:174\u001b[0m, in \u001b[0;36mHTTPConnection._new_conn\u001b[1;34m(self)\u001b[0m\n\u001b[0;32m    173\u001b[0m \u001b[38;5;28;01mtry\u001b[39;00m:\n\u001b[1;32m--> 174\u001b[0m     conn \u001b[38;5;241m=\u001b[39m connection\u001b[38;5;241m.\u001b[39mcreate_connection(\n\u001b[0;32m    175\u001b[0m         (\u001b[38;5;28mself\u001b[39m\u001b[38;5;241m.\u001b[39m_dns_host, \u001b[38;5;28mself\u001b[39m\u001b[38;5;241m.\u001b[39mport), \u001b[38;5;28mself\u001b[39m\u001b[38;5;241m.\u001b[39mtimeout, \u001b[38;5;241m*\u001b[39m\u001b[38;5;241m*\u001b[39mextra_kw\n\u001b[0;32m    176\u001b[0m     )\n\u001b[0;32m    178\u001b[0m \u001b[38;5;28;01mexcept\u001b[39;00m SocketTimeout:\n",
      "File \u001b[1;32mC:\\ProgramData\\Anaconda3\\lib\\site-packages\\urllib3\\util\\connection.py:95\u001b[0m, in \u001b[0;36mcreate_connection\u001b[1;34m(address, timeout, source_address, socket_options)\u001b[0m\n\u001b[0;32m     94\u001b[0m \u001b[38;5;28;01mif\u001b[39;00m err \u001b[38;5;129;01mis\u001b[39;00m \u001b[38;5;129;01mnot\u001b[39;00m \u001b[38;5;28;01mNone\u001b[39;00m:\n\u001b[1;32m---> 95\u001b[0m     \u001b[38;5;28;01mraise\u001b[39;00m err\n\u001b[0;32m     97\u001b[0m \u001b[38;5;28;01mraise\u001b[39;00m socket\u001b[38;5;241m.\u001b[39merror(\u001b[38;5;124m\"\u001b[39m\u001b[38;5;124mgetaddrinfo returns an empty list\u001b[39m\u001b[38;5;124m\"\u001b[39m)\n",
      "File \u001b[1;32mC:\\ProgramData\\Anaconda3\\lib\\site-packages\\urllib3\\util\\connection.py:85\u001b[0m, in \u001b[0;36mcreate_connection\u001b[1;34m(address, timeout, source_address, socket_options)\u001b[0m\n\u001b[0;32m     84\u001b[0m     sock\u001b[38;5;241m.\u001b[39mbind(source_address)\n\u001b[1;32m---> 85\u001b[0m \u001b[43msock\u001b[49m\u001b[38;5;241;43m.\u001b[39;49m\u001b[43mconnect\u001b[49m\u001b[43m(\u001b[49m\u001b[43msa\u001b[49m\u001b[43m)\u001b[49m\n\u001b[0;32m     86\u001b[0m \u001b[38;5;28;01mreturn\u001b[39;00m sock\n",
      "\u001b[1;31mConnectionRefusedError\u001b[0m: [WinError 10061] Подключение не установлено, т.к. конечный компьютер отверг запрос на подключение",
      "\nDuring handling of the above exception, another exception occurred:\n",
      "\u001b[1;31mNewConnectionError\u001b[0m                        Traceback (most recent call last)",
      "File \u001b[1;32mC:\\ProgramData\\Anaconda3\\lib\\site-packages\\urllib3\\connectionpool.py:700\u001b[0m, in \u001b[0;36mHTTPConnectionPool.urlopen\u001b[1;34m(self, method, url, body, headers, retries, redirect, assert_same_host, timeout, pool_timeout, release_conn, chunked, body_pos, **response_kw)\u001b[0m\n\u001b[0;32m    699\u001b[0m \u001b[38;5;28;01mif\u001b[39;00m is_new_proxy_conn \u001b[38;5;129;01mand\u001b[39;00m http_tunnel_required:\n\u001b[1;32m--> 700\u001b[0m     \u001b[38;5;28;43mself\u001b[39;49m\u001b[38;5;241;43m.\u001b[39;49m\u001b[43m_prepare_proxy\u001b[49m\u001b[43m(\u001b[49m\u001b[43mconn\u001b[49m\u001b[43m)\u001b[49m\n\u001b[0;32m    702\u001b[0m \u001b[38;5;66;03m# Make the request on the httplib connection object.\u001b[39;00m\n",
      "File \u001b[1;32mC:\\ProgramData\\Anaconda3\\lib\\site-packages\\urllib3\\connectionpool.py:994\u001b[0m, in \u001b[0;36mHTTPSConnectionPool._prepare_proxy\u001b[1;34m(self, conn)\u001b[0m\n\u001b[0;32m    992\u001b[0m     conn\u001b[38;5;241m.\u001b[39mtls_in_tls_required \u001b[38;5;241m=\u001b[39m \u001b[38;5;28;01mTrue\u001b[39;00m\n\u001b[1;32m--> 994\u001b[0m \u001b[43mconn\u001b[49m\u001b[38;5;241;43m.\u001b[39;49m\u001b[43mconnect\u001b[49m\u001b[43m(\u001b[49m\u001b[43m)\u001b[49m\n",
      "File \u001b[1;32mC:\\ProgramData\\Anaconda3\\lib\\site-packages\\urllib3\\connection.py:358\u001b[0m, in \u001b[0;36mHTTPSConnection.connect\u001b[1;34m(self)\u001b[0m\n\u001b[0;32m    356\u001b[0m \u001b[38;5;28;01mdef\u001b[39;00m \u001b[38;5;21mconnect\u001b[39m(\u001b[38;5;28mself\u001b[39m):\n\u001b[0;32m    357\u001b[0m     \u001b[38;5;66;03m# Add certificate verification\u001b[39;00m\n\u001b[1;32m--> 358\u001b[0m     \u001b[38;5;28mself\u001b[39m\u001b[38;5;241m.\u001b[39msock \u001b[38;5;241m=\u001b[39m conn \u001b[38;5;241m=\u001b[39m \u001b[38;5;28;43mself\u001b[39;49m\u001b[38;5;241;43m.\u001b[39;49m\u001b[43m_new_conn\u001b[49m\u001b[43m(\u001b[49m\u001b[43m)\u001b[49m\n\u001b[0;32m    359\u001b[0m     hostname \u001b[38;5;241m=\u001b[39m \u001b[38;5;28mself\u001b[39m\u001b[38;5;241m.\u001b[39mhost\n",
      "File \u001b[1;32mC:\\ProgramData\\Anaconda3\\lib\\site-packages\\urllib3\\connection.py:186\u001b[0m, in \u001b[0;36mHTTPConnection._new_conn\u001b[1;34m(self)\u001b[0m\n\u001b[0;32m    185\u001b[0m \u001b[38;5;28;01mexcept\u001b[39;00m SocketError \u001b[38;5;28;01mas\u001b[39;00m e:\n\u001b[1;32m--> 186\u001b[0m     \u001b[38;5;28;01mraise\u001b[39;00m NewConnectionError(\n\u001b[0;32m    187\u001b[0m         \u001b[38;5;28mself\u001b[39m, \u001b[38;5;124m\"\u001b[39m\u001b[38;5;124mFailed to establish a new connection: \u001b[39m\u001b[38;5;132;01m%s\u001b[39;00m\u001b[38;5;124m\"\u001b[39m \u001b[38;5;241m%\u001b[39m e\n\u001b[0;32m    188\u001b[0m     )\n\u001b[0;32m    190\u001b[0m \u001b[38;5;28;01mreturn\u001b[39;00m conn\n",
      "\u001b[1;31mNewConnectionError\u001b[0m: <urllib3.connection.HTTPSConnection object at 0x0000024A876FB640>: Failed to establish a new connection: [WinError 10061] Подключение не установлено, т.к. конечный компьютер отверг запрос на подключение",
      "\nDuring handling of the above exception, another exception occurred:\n",
      "\u001b[1;31mMaxRetryError\u001b[0m                             Traceback (most recent call last)",
      "File \u001b[1;32mC:\\ProgramData\\Anaconda3\\lib\\site-packages\\requests\\adapters.py:440\u001b[0m, in \u001b[0;36mHTTPAdapter.send\u001b[1;34m(self, request, stream, timeout, verify, cert, proxies)\u001b[0m\n\u001b[0;32m    439\u001b[0m \u001b[38;5;28;01mif\u001b[39;00m \u001b[38;5;129;01mnot\u001b[39;00m chunked:\n\u001b[1;32m--> 440\u001b[0m     resp \u001b[38;5;241m=\u001b[39m \u001b[43mconn\u001b[49m\u001b[38;5;241;43m.\u001b[39;49m\u001b[43murlopen\u001b[49m\u001b[43m(\u001b[49m\n\u001b[0;32m    441\u001b[0m \u001b[43m        \u001b[49m\u001b[43mmethod\u001b[49m\u001b[38;5;241;43m=\u001b[39;49m\u001b[43mrequest\u001b[49m\u001b[38;5;241;43m.\u001b[39;49m\u001b[43mmethod\u001b[49m\u001b[43m,\u001b[49m\n\u001b[0;32m    442\u001b[0m \u001b[43m        \u001b[49m\u001b[43murl\u001b[49m\u001b[38;5;241;43m=\u001b[39;49m\u001b[43murl\u001b[49m\u001b[43m,\u001b[49m\n\u001b[0;32m    443\u001b[0m \u001b[43m        \u001b[49m\u001b[43mbody\u001b[49m\u001b[38;5;241;43m=\u001b[39;49m\u001b[43mrequest\u001b[49m\u001b[38;5;241;43m.\u001b[39;49m\u001b[43mbody\u001b[49m\u001b[43m,\u001b[49m\n\u001b[0;32m    444\u001b[0m \u001b[43m        \u001b[49m\u001b[43mheaders\u001b[49m\u001b[38;5;241;43m=\u001b[39;49m\u001b[43mrequest\u001b[49m\u001b[38;5;241;43m.\u001b[39;49m\u001b[43mheaders\u001b[49m\u001b[43m,\u001b[49m\n\u001b[0;32m    445\u001b[0m \u001b[43m        \u001b[49m\u001b[43mredirect\u001b[49m\u001b[38;5;241;43m=\u001b[39;49m\u001b[38;5;28;43;01mFalse\u001b[39;49;00m\u001b[43m,\u001b[49m\n\u001b[0;32m    446\u001b[0m \u001b[43m        \u001b[49m\u001b[43massert_same_host\u001b[49m\u001b[38;5;241;43m=\u001b[39;49m\u001b[38;5;28;43;01mFalse\u001b[39;49;00m\u001b[43m,\u001b[49m\n\u001b[0;32m    447\u001b[0m \u001b[43m        \u001b[49m\u001b[43mpreload_content\u001b[49m\u001b[38;5;241;43m=\u001b[39;49m\u001b[38;5;28;43;01mFalse\u001b[39;49;00m\u001b[43m,\u001b[49m\n\u001b[0;32m    448\u001b[0m \u001b[43m        \u001b[49m\u001b[43mdecode_content\u001b[49m\u001b[38;5;241;43m=\u001b[39;49m\u001b[38;5;28;43;01mFalse\u001b[39;49;00m\u001b[43m,\u001b[49m\n\u001b[0;32m    449\u001b[0m \u001b[43m        \u001b[49m\u001b[43mretries\u001b[49m\u001b[38;5;241;43m=\u001b[39;49m\u001b[38;5;28;43mself\u001b[39;49m\u001b[38;5;241;43m.\u001b[39;49m\u001b[43mmax_retries\u001b[49m\u001b[43m,\u001b[49m\n\u001b[0;32m    450\u001b[0m \u001b[43m        \u001b[49m\u001b[43mtimeout\u001b[49m\u001b[38;5;241;43m=\u001b[39;49m\u001b[43mtimeout\u001b[49m\n\u001b[0;32m    451\u001b[0m \u001b[43m    \u001b[49m\u001b[43m)\u001b[49m\n\u001b[0;32m    453\u001b[0m \u001b[38;5;66;03m# Send the request.\u001b[39;00m\n\u001b[0;32m    454\u001b[0m \u001b[38;5;28;01melse\u001b[39;00m:\n",
      "File \u001b[1;32mC:\\ProgramData\\Anaconda3\\lib\\site-packages\\urllib3\\connectionpool.py:785\u001b[0m, in \u001b[0;36mHTTPConnectionPool.urlopen\u001b[1;34m(self, method, url, body, headers, retries, redirect, assert_same_host, timeout, pool_timeout, release_conn, chunked, body_pos, **response_kw)\u001b[0m\n\u001b[0;32m    783\u001b[0m     e \u001b[38;5;241m=\u001b[39m ProtocolError(\u001b[38;5;124m\"\u001b[39m\u001b[38;5;124mConnection aborted.\u001b[39m\u001b[38;5;124m\"\u001b[39m, e)\n\u001b[1;32m--> 785\u001b[0m retries \u001b[38;5;241m=\u001b[39m \u001b[43mretries\u001b[49m\u001b[38;5;241;43m.\u001b[39;49m\u001b[43mincrement\u001b[49m\u001b[43m(\u001b[49m\n\u001b[0;32m    786\u001b[0m \u001b[43m    \u001b[49m\u001b[43mmethod\u001b[49m\u001b[43m,\u001b[49m\u001b[43m \u001b[49m\u001b[43murl\u001b[49m\u001b[43m,\u001b[49m\u001b[43m \u001b[49m\u001b[43merror\u001b[49m\u001b[38;5;241;43m=\u001b[39;49m\u001b[43me\u001b[49m\u001b[43m,\u001b[49m\u001b[43m \u001b[49m\u001b[43m_pool\u001b[49m\u001b[38;5;241;43m=\u001b[39;49m\u001b[38;5;28;43mself\u001b[39;49m\u001b[43m,\u001b[49m\u001b[43m \u001b[49m\u001b[43m_stacktrace\u001b[49m\u001b[38;5;241;43m=\u001b[39;49m\u001b[43msys\u001b[49m\u001b[38;5;241;43m.\u001b[39;49m\u001b[43mexc_info\u001b[49m\u001b[43m(\u001b[49m\u001b[43m)\u001b[49m\u001b[43m[\u001b[49m\u001b[38;5;241;43m2\u001b[39;49m\u001b[43m]\u001b[49m\n\u001b[0;32m    787\u001b[0m \u001b[43m\u001b[49m\u001b[43m)\u001b[49m\n\u001b[0;32m    788\u001b[0m retries\u001b[38;5;241m.\u001b[39msleep()\n",
      "File \u001b[1;32mC:\\ProgramData\\Anaconda3\\lib\\site-packages\\urllib3\\util\\retry.py:592\u001b[0m, in \u001b[0;36mRetry.increment\u001b[1;34m(self, method, url, response, error, _pool, _stacktrace)\u001b[0m\n\u001b[0;32m    591\u001b[0m \u001b[38;5;28;01mif\u001b[39;00m new_retry\u001b[38;5;241m.\u001b[39mis_exhausted():\n\u001b[1;32m--> 592\u001b[0m     \u001b[38;5;28;01mraise\u001b[39;00m MaxRetryError(_pool, url, error \u001b[38;5;129;01mor\u001b[39;00m ResponseError(cause))\n\u001b[0;32m    594\u001b[0m log\u001b[38;5;241m.\u001b[39mdebug(\u001b[38;5;124m\"\u001b[39m\u001b[38;5;124mIncremented Retry for (url=\u001b[39m\u001b[38;5;124m'\u001b[39m\u001b[38;5;132;01m%s\u001b[39;00m\u001b[38;5;124m'\u001b[39m\u001b[38;5;124m): \u001b[39m\u001b[38;5;132;01m%r\u001b[39;00m\u001b[38;5;124m\"\u001b[39m, url, new_retry)\n",
      "\u001b[1;31mMaxRetryError\u001b[0m: HTTPSConnectionPool(host='whoer.net', port=443): Max retries exceeded with url: / (Caused by ProxyError('Cannot connect to proxy.', NewConnectionError('<urllib3.connection.HTTPSConnection object at 0x0000024A876FB640>: Failed to establish a new connection: [WinError 10061] Подключение не установлено, т.к. конечный компьютер отверг запрос на подключение')))",
      "\nDuring handling of the above exception, another exception occurred:\n",
      "\u001b[1;31mProxyError\u001b[0m                                Traceback (most recent call last)",
      "Input \u001b[1;32mIn [13]\u001b[0m, in \u001b[0;36m<cell line: 43>\u001b[1;34m()\u001b[0m\n\u001b[0;32m     43\u001b[0m \u001b[38;5;28;01mfor\u001b[39;00m i \u001b[38;5;129;01min\u001b[39;00m \u001b[38;5;28mrange\u001b[39m(\u001b[38;5;241m5\u001b[39m):\n\u001b[0;32m     44\u001b[0m     \n\u001b[0;32m     45\u001b[0m     \u001b[38;5;66;03m#print(s.proxies)\u001b[39;00m\n\u001b[0;32m     46\u001b[0m     \u001b[38;5;66;03m#proxy = random.choice(['91.187.69.101:4153'])\u001b[39;00m\n\u001b[0;32m     48\u001b[0m     proxxies \u001b[38;5;241m=\u001b[39m {\u001b[38;5;124m\"\u001b[39m\u001b[38;5;124mhttp\u001b[39m\u001b[38;5;124m\"\u001b[39m: \u001b[38;5;124m'\u001b[39m\u001b[38;5;124m37.204.95.22:80\u001b[39m\u001b[38;5;124m'\u001b[39m, \u001b[38;5;124m\"\u001b[39m\u001b[38;5;124mhttps\u001b[39m\u001b[38;5;124m\"\u001b[39m: \u001b[38;5;124m'\u001b[39m\u001b[38;5;124m185.61.77.134:8088\u001b[39m\u001b[38;5;124m'\u001b[39m}\n\u001b[1;32m---> 49\u001b[0m     html \u001b[38;5;241m=\u001b[39m \u001b[43mrequests\u001b[49m\u001b[38;5;241;43m.\u001b[39;49m\u001b[43mget\u001b[49m\u001b[43m(\u001b[49m\u001b[38;5;124;43m'\u001b[39;49m\u001b[38;5;124;43mhttps://whoer.net/\u001b[39;49m\u001b[38;5;124;43m'\u001b[39;49m\u001b[43m,\u001b[49m\u001b[43m \u001b[49m\u001b[43mproxies\u001b[49m\u001b[38;5;241;43m=\u001b[39;49m\u001b[43mproxxies\u001b[49m\u001b[43m)\u001b[49m\n\u001b[0;32m     50\u001b[0m     \u001b[38;5;28mprint\u001b[39m(html)\n\u001b[0;32m     51\u001b[0m     \u001b[38;5;28mprint\u001b[39m(\u001b[38;5;124m\"\u001b[39m\u001b[38;5;124mСтраница запроса с IP:\u001b[39m\u001b[38;5;124m\"\u001b[39m, html\u001b[38;5;241m.\u001b[39mtext\u001b[38;5;241m.\u001b[39mstrip())\n",
      "File \u001b[1;32mC:\\ProgramData\\Anaconda3\\lib\\site-packages\\requests\\api.py:75\u001b[0m, in \u001b[0;36mget\u001b[1;34m(url, params, **kwargs)\u001b[0m\n\u001b[0;32m     64\u001b[0m \u001b[38;5;28;01mdef\u001b[39;00m \u001b[38;5;21mget\u001b[39m(url, params\u001b[38;5;241m=\u001b[39m\u001b[38;5;28;01mNone\u001b[39;00m, \u001b[38;5;241m*\u001b[39m\u001b[38;5;241m*\u001b[39mkwargs):\n\u001b[0;32m     65\u001b[0m     \u001b[38;5;124mr\u001b[39m\u001b[38;5;124;03m\"\"\"Sends a GET request.\u001b[39;00m\n\u001b[0;32m     66\u001b[0m \n\u001b[0;32m     67\u001b[0m \u001b[38;5;124;03m    :param url: URL for the new :class:`Request` object.\u001b[39;00m\n\u001b[1;32m   (...)\u001b[0m\n\u001b[0;32m     72\u001b[0m \u001b[38;5;124;03m    :rtype: requests.Response\u001b[39;00m\n\u001b[0;32m     73\u001b[0m \u001b[38;5;124;03m    \"\"\"\u001b[39;00m\n\u001b[1;32m---> 75\u001b[0m     \u001b[38;5;28;01mreturn\u001b[39;00m request(\u001b[38;5;124m'\u001b[39m\u001b[38;5;124mget\u001b[39m\u001b[38;5;124m'\u001b[39m, url, params\u001b[38;5;241m=\u001b[39mparams, \u001b[38;5;241m*\u001b[39m\u001b[38;5;241m*\u001b[39mkwargs)\n",
      "File \u001b[1;32mC:\\ProgramData\\Anaconda3\\lib\\site-packages\\requests\\api.py:61\u001b[0m, in \u001b[0;36mrequest\u001b[1;34m(method, url, **kwargs)\u001b[0m\n\u001b[0;32m     57\u001b[0m \u001b[38;5;66;03m# By using the 'with' statement we are sure the session is closed, thus we\u001b[39;00m\n\u001b[0;32m     58\u001b[0m \u001b[38;5;66;03m# avoid leaving sockets open which can trigger a ResourceWarning in some\u001b[39;00m\n\u001b[0;32m     59\u001b[0m \u001b[38;5;66;03m# cases, and look like a memory leak in others.\u001b[39;00m\n\u001b[0;32m     60\u001b[0m \u001b[38;5;28;01mwith\u001b[39;00m sessions\u001b[38;5;241m.\u001b[39mSession() \u001b[38;5;28;01mas\u001b[39;00m session:\n\u001b[1;32m---> 61\u001b[0m     \u001b[38;5;28;01mreturn\u001b[39;00m session\u001b[38;5;241m.\u001b[39mrequest(method\u001b[38;5;241m=\u001b[39mmethod, url\u001b[38;5;241m=\u001b[39murl, \u001b[38;5;241m*\u001b[39m\u001b[38;5;241m*\u001b[39mkwargs)\n",
      "File \u001b[1;32mC:\\ProgramData\\Anaconda3\\lib\\site-packages\\requests\\sessions.py:529\u001b[0m, in \u001b[0;36mSession.request\u001b[1;34m(self, method, url, params, data, headers, cookies, files, auth, timeout, allow_redirects, proxies, hooks, stream, verify, cert, json)\u001b[0m\n\u001b[0;32m    524\u001b[0m send_kwargs \u001b[38;5;241m=\u001b[39m {\n\u001b[0;32m    525\u001b[0m     \u001b[38;5;124m'\u001b[39m\u001b[38;5;124mtimeout\u001b[39m\u001b[38;5;124m'\u001b[39m: timeout,\n\u001b[0;32m    526\u001b[0m     \u001b[38;5;124m'\u001b[39m\u001b[38;5;124mallow_redirects\u001b[39m\u001b[38;5;124m'\u001b[39m: allow_redirects,\n\u001b[0;32m    527\u001b[0m }\n\u001b[0;32m    528\u001b[0m send_kwargs\u001b[38;5;241m.\u001b[39mupdate(settings)\n\u001b[1;32m--> 529\u001b[0m resp \u001b[38;5;241m=\u001b[39m \u001b[38;5;28mself\u001b[39m\u001b[38;5;241m.\u001b[39msend(prep, \u001b[38;5;241m*\u001b[39m\u001b[38;5;241m*\u001b[39msend_kwargs)\n\u001b[0;32m    531\u001b[0m \u001b[38;5;28;01mreturn\u001b[39;00m resp\n",
      "File \u001b[1;32mC:\\ProgramData\\Anaconda3\\lib\\site-packages\\requests\\sessions.py:645\u001b[0m, in \u001b[0;36mSession.send\u001b[1;34m(self, request, **kwargs)\u001b[0m\n\u001b[0;32m    642\u001b[0m start \u001b[38;5;241m=\u001b[39m preferred_clock()\n\u001b[0;32m    644\u001b[0m \u001b[38;5;66;03m# Send the request\u001b[39;00m\n\u001b[1;32m--> 645\u001b[0m r \u001b[38;5;241m=\u001b[39m adapter\u001b[38;5;241m.\u001b[39msend(request, \u001b[38;5;241m*\u001b[39m\u001b[38;5;241m*\u001b[39mkwargs)\n\u001b[0;32m    647\u001b[0m \u001b[38;5;66;03m# Total elapsed time of the request (approximately)\u001b[39;00m\n\u001b[0;32m    648\u001b[0m elapsed \u001b[38;5;241m=\u001b[39m preferred_clock() \u001b[38;5;241m-\u001b[39m start\n",
      "File \u001b[1;32mC:\\ProgramData\\Anaconda3\\lib\\site-packages\\requests\\adapters.py:513\u001b[0m, in \u001b[0;36mHTTPAdapter.send\u001b[1;34m(self, request, stream, timeout, verify, cert, proxies)\u001b[0m\n\u001b[0;32m    510\u001b[0m     \u001b[38;5;28;01mraise\u001b[39;00m RetryError(e, request\u001b[38;5;241m=\u001b[39mrequest)\n\u001b[0;32m    512\u001b[0m \u001b[38;5;28;01mif\u001b[39;00m \u001b[38;5;28misinstance\u001b[39m(e\u001b[38;5;241m.\u001b[39mreason, _ProxyError):\n\u001b[1;32m--> 513\u001b[0m     \u001b[38;5;28;01mraise\u001b[39;00m ProxyError(e, request\u001b[38;5;241m=\u001b[39mrequest)\n\u001b[0;32m    515\u001b[0m \u001b[38;5;28;01mif\u001b[39;00m \u001b[38;5;28misinstance\u001b[39m(e\u001b[38;5;241m.\u001b[39mreason, _SSLError):\n\u001b[0;32m    516\u001b[0m     \u001b[38;5;66;03m# This branch is for urllib3 v1.22 and later.\u001b[39;00m\n\u001b[0;32m    517\u001b[0m     \u001b[38;5;28;01mraise\u001b[39;00m SSLError(e, request\u001b[38;5;241m=\u001b[39mrequest)\n",
      "\u001b[1;31mProxyError\u001b[0m: HTTPSConnectionPool(host='whoer.net', port=443): Max retries exceeded with url: / (Caused by ProxyError('Cannot connect to proxy.', NewConnectionError('<urllib3.connection.HTTPSConnection object at 0x0000024A876FB640>: Failed to establish a new connection: [WinError 10061] Подключение не установлено, т.к. конечный компьютер отверг запрос на подключение')))"
     ]
    }
   ],
   "source": [
    "import requests\n",
    "import random\n",
    "from bs4 import BeautifulSoup as bs\n",
    "\n",
    "def get_free_proxies():\n",
    "    url = \"https://free-proxy-list.net/\"\n",
    "    # получаем ответ HTTP и создаем объект soup\n",
    "    #soup = bs(requests.get(url).content, \"html.parser\")\n",
    "    print(requests.get(url))\n",
    "    html = requests.get(url).text\n",
    "    #print(html)\n",
    "    soup = bs(html)\n",
    "    proxies = []\n",
    "    for row in bs(html).find(\"table\", attrs={\"class\": \"table table-striped table-bordered\"}).find_all(\"tr\")[1:]:\n",
    "        tds = row.find_all(\"td\")\n",
    "        try:\n",
    "            ip = tds[0].text.strip()\n",
    "            port = tds[1].text.strip()\n",
    "            host = f\"{ip}:{port}\"\n",
    "            proxies.append(host)\n",
    "        except IndexError:\n",
    "            continue\n",
    "    return proxies\n",
    "\n",
    "free_proxies = get_free_proxies()\n",
    "\"\"\"\n",
    "print(f'Обнаружено бесплатных прокси - {len(free_proxies)}:')\n",
    "for i in range(len(free_proxies)):\n",
    "    print(f\"{i+1}) {free_proxies[i]}\")\n",
    "    \n",
    "    \"\"\"\n",
    "def get_session(proxies):\n",
    "    # создать HTTP‑сеанс\n",
    "    session = requests.Session()\n",
    "    # выбираем один случайный прокси\n",
    "    proxy = random.choice(proxies)\n",
    "    session.proxies = {\"http\": proxy, \"https\": proxy}\n",
    "    return session\n",
    "\n",
    "\n",
    "print(get_free_proxies)\n",
    "\n",
    "for i in range(5):\n",
    "    \n",
    "    #print(s.proxies)\n",
    "    #proxy = random.choice(['91.187.69.101:4153'])\n",
    "    \n",
    "    proxxies = {\"http\": '37.204.95.22:80', \"https\": '185.61.77.134:8088'}\n",
    "    html = requests.get('https://whoer.net/', proxies=proxxies)\n",
    "    print(html)\n",
    "    print(\"Страница запроса с IP:\", html.text.strip())\n",
    "    "
   ]
  },
  {
   "cell_type": "code",
   "execution_count": null,
   "id": "ce73465c",
   "metadata": {},
   "outputs": [],
   "source": []
  }
 ],
 "metadata": {
  "kernelspec": {
   "display_name": "Python 3 (ipykernel)",
   "language": "python",
   "name": "python3"
  },
  "language_info": {
   "codemirror_mode": {
    "name": "ipython",
    "version": 3
   },
   "file_extension": ".py",
   "mimetype": "text/x-python",
   "name": "python",
   "nbconvert_exporter": "python",
   "pygments_lexer": "ipython3",
   "version": "3.9.12"
  }
 },
 "nbformat": 4,
 "nbformat_minor": 5
}
