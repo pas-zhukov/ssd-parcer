{
 "cells": [
  {
   "cell_type": "code",
   "execution_count": 3,
   "id": "7b1030d5",
   "metadata": {
    "pycharm": {
     "name": "#%%\n"
    }
   },
   "outputs": [
    {
     "data": {
      "text/plain": "<Response [200]>"
     },
     "execution_count": 3,
     "metadata": {},
     "output_type": "execute_result"
    }
   ],
   "source": [
    "import requests\n",
    "from bs4 import BeautifulSoup\n",
    "\n",
    "URL = 'https://www.citilink.ru/catalog/ssd-nakopiteli/'\n",
    "URL = requests.head(URL, allow_redirects=True).url\n",
    "requests.get(URL)"
   ]
  },
  {
   "cell_type": "code",
   "execution_count": 4,
   "id": "97839561",
   "metadata": {
    "pycharm": {
     "name": "#%%\n"
    }
   },
   "outputs": [
    {
     "name": "stdout",
     "output_type": "stream",
     "text": [
      "0\n"
     ]
    }
   ],
   "source": [
    "from ipywidgets import IntProgress\n",
    "from IPython.display import display\n",
    "import tqdm\n",
    "import time\n",
    "\n",
    "def URLsFromPage(base_url = 'https://www.citilink.ru/catalog/ssd-nakopiteli/'):\n",
    "    \n",
    "    #функция предназначена для извлечения ссылок на каждый товар в опеределенной категории товаров\n",
    "    prgBar = IntProgress(min = 0, max = getPagesAmount(requests.get(base_url).text)) # Создаем прогрессбар\n",
    "    display(prgBar)\n",
    "    \n",
    "    links = [] #список для ссылок на каждый товар\n",
    "    \n",
    "    for page in range(1, getPagesAmount(requests.get(base_url).text)+1, 1):\n",
    "        \n",
    "        URL = base_url + '?p=' + str(page)\n",
    "        \n",
    "        html = requests.get(URL).text\n",
    "    \n",
    "        products_list = BeautifulSoup(html).findAll('a',\n",
    "                                        {'class': 'ProductCardVertical__name Link js--Link Link_type_default'})\n",
    "\n",
    "        for product in products_list:\n",
    "            links.append('https://www.citilink.ru' + BeautifulSoup.get(product, 'href') + 'properties/')\n",
    "        prgBar.value += 1\n",
    "        time.sleep(2)\n",
    "    \n",
    "    return links\n",
    "    \n",
    "    \n",
    "def getPagesAmount(html1):\n",
    "    \n",
    "    pages_amount = BeautifulSoup(html1).find('a', {'class': 'PaginationWidget__page js--PaginationWidget__page PaginationWidget__page_last PaginationWidget__page-link'})\n",
    "\n",
    "    pages_amount = BeautifulSoup.get(pages_amount, 'data-page')\n",
    "\n",
    "    pages_amount = int(pages_amount)\n",
    "    \n",
    "    return pages_amount\n",
    "\n",
    "print(0)"
   ]
  },
  {
   "cell_type": "code",
   "execution_count": 5,
   "id": "bb56c98a",
   "metadata": {
    "pycharm": {
     "name": "#%%\n"
    }
   },
   "outputs": [
    {
     "data": {
      "text/plain": "IntProgress(value=0, max=11)",
      "application/vnd.jupyter.widget-view+json": {
       "version_major": 2,
       "version_minor": 0,
       "model_id": "cb4b9878897e4aac90288c1528e688ae"
      }
     },
     "metadata": {},
     "output_type": "display_data"
    }
   ],
   "source": [
    "\n",
    "SSD_LINKS_LIST = URLsFromPage()\n",
    "    "
   ]
  },
  {
   "cell_type": "code",
   "execution_count": 6,
   "id": "58260717",
   "metadata": {
    "pycharm": {
     "name": "#%%\n"
    }
   },
   "outputs": [
    {
     "data": {
      "text/plain": "483"
     },
     "execution_count": 6,
     "metadata": {},
     "output_type": "execute_result"
    }
   ],
   "source": [
    "\n",
    "len(SSD_LINKS_LIST)\n"
   ]
  },
  {
   "cell_type": "code",
   "execution_count": 7,
   "id": "83753bb5",
   "metadata": {
    "pycharm": {
     "name": "#%%\n"
    }
   },
   "outputs": [
    {
     "name": "stdout",
     "output_type": "stream",
     "text": [
      "0\n"
     ]
    }
   ],
   "source": [
    "import requests\n",
    "import bs4\n",
    "from bs4 import BeautifulSoup\n",
    "import re\n",
    "import time\n",
    "from pyuser_agent import UA\n",
    "\n",
    "def getHTML(URL):\n",
    "    #agent = 'Mozilla/5.0 (Windows; U; Windows NT 6.1; en-US; rv:1.9.3a3pre) Gecko/20100306 Firefox3.6 (.NET CLR 3.5.30729)'\n",
    "    agent = UA().firefox\n",
    "    html = requests.get(URL, headers={'User-Agent': agent}).text\n",
    "    return html\n",
    "\n",
    "def getSpecifications(html):\n",
    "    table = BeautifulSoup(html).find('div', {'class': 'col2 xs-col3 ml-col-start-2 ml-col-3'}).findAll('div', {'class': 'Specifications__row'})\n",
    "    table_2 = {}\n",
    "    for t in table:\n",
    "        name = t.find('div', {'class' : 'Specifications__column Specifications__column_name'}).text.strip()\n",
    "        value = t.find('div', {'class' : 'Specifications__column Specifications__column_value'}).text.strip()\n",
    "        if re.match('Гарантий', name):\n",
    "            name = 'Гарантийное обслуживание'\n",
    "        table_2[name]=value\n",
    "\n",
    "    return table_2\n",
    "\n",
    "print(0)"
   ]
  },
  {
   "cell_type": "code",
   "execution_count": 8,
   "id": "1934d225",
   "metadata": {
    "pycharm": {
     "name": "#%%\n"
    }
   },
   "outputs": [],
   "source": [
    "import requests\n",
    "import bs4\n",
    "from bs4 import BeautifulSoup\n",
    "import re\n",
    "import time\n",
    "\n",
    "\n",
    "def getID(HTML):\n",
    "    try:\n",
    "        num = BeautifulSoup(HTML).find('div', {'class': 'ProductHeader__product-id'}).text\n",
    "    except:\n",
    "        num = BeautifulSoup(HTML).find('div', {'class': 'ProductPageUsersActivity__product-id'}).text\n",
    "    num = num.strip()\n",
    "    num2 = re.split(':', num)\n",
    "    num = num2[1].strip()\n",
    "    return num\n"
   ]
  },
  {
   "cell_type": "code",
   "execution_count": 33,
   "outputs": [
    {
     "data": {
      "text/plain": "12890"
     },
     "execution_count": 33,
     "metadata": {},
     "output_type": "execute_result"
    }
   ],
   "source": [
    "def getPrice(html):\n",
    "    try:\n",
    "        price = int(BeautifulSoup(html).find('span', {'class': 'ProductPagePriceSection__default-price_current-price js--ProductPagePriceSection__default-price_current-price ProductPagePriceSection__default-price-value'}).text.strip().replace(' ', ''))\n",
    "    except:\n",
    "        try:\n",
    "            price = int(BeautifulSoup(html).find('span', {'class': 'FairPricePopup__price-block_summary js--FairPricePopup__price-block_summary_current-price js--FairPricePopup__price-block_summary js--FairPricePopup__price-block_summary_current-price'}).text.strip().replace(' ', ''))\n",
    "        except:\n",
    "            price = 0\n",
    "    return price\n",
    "\n",
    "getPrice(html)"
   ],
   "metadata": {
    "collapsed": false,
    "pycharm": {
     "name": "#%%\n"
    }
   }
  },
  {
   "cell_type": "code",
   "execution_count": 19,
   "id": "3ac70517",
   "metadata": {
    "pycharm": {
     "name": "#%%\n"
    }
   },
   "outputs": [
    {
     "name": "stderr",
     "output_type": "stream",
     "text": [
      "  0%|          | 0/483 [00:01<?, ?it/s]\n"
     ]
    },
    {
     "ename": "TypeError",
     "evalue": "can only concatenate str (not \"int\") to str",
     "output_type": "error",
     "traceback": [
      "\u001B[1;31m---------------------------------------------------------------------------\u001B[0m",
      "\u001B[1;31mTypeError\u001B[0m                                 Traceback (most recent call last)",
      "\u001B[1;32m~\\AppData\\Local\\Temp\\ipykernel_10816\\1241417947.py\u001B[0m in \u001B[0;36m<module>\u001B[1;34m\u001B[0m\n\u001B[0;32m     22\u001B[0m         \u001B[0mto_write_mas\u001B[0m \u001B[1;33m=\u001B[0m \u001B[1;33m[\u001B[0m\u001B[1;33m]\u001B[0m\u001B[1;33m\u001B[0m\u001B[1;33m\u001B[0m\u001B[0m\n\u001B[0;32m     23\u001B[0m         \u001B[1;32mfor\u001B[0m \u001B[0mk\u001B[0m\u001B[1;33m,\u001B[0m\u001B[0mv\u001B[0m \u001B[1;32min\u001B[0m \u001B[0mto_write\u001B[0m\u001B[1;33m.\u001B[0m\u001B[0mitems\u001B[0m\u001B[1;33m(\u001B[0m\u001B[1;33m)\u001B[0m\u001B[1;33m:\u001B[0m\u001B[1;33m\u001B[0m\u001B[1;33m\u001B[0m\u001B[0m\n\u001B[1;32m---> 24\u001B[1;33m             \u001B[0mto_write_mas\u001B[0m\u001B[1;33m.\u001B[0m\u001B[0mappend\u001B[0m\u001B[1;33m(\u001B[0m\u001B[0mk\u001B[0m \u001B[1;33m+\u001B[0m \u001B[1;34m':'\u001B[0m \u001B[1;33m+\u001B[0m \u001B[0mv\u001B[0m\u001B[1;33m)\u001B[0m\u001B[1;33m\u001B[0m\u001B[1;33m\u001B[0m\u001B[0m\n\u001B[0m\u001B[0;32m     25\u001B[0m         \u001B[0mfile_writer\u001B[0m\u001B[1;33m.\u001B[0m\u001B[0mwriterow\u001B[0m\u001B[1;33m(\u001B[0m\u001B[0mto_write_mas\u001B[0m\u001B[1;33m)\u001B[0m\u001B[1;33m\u001B[0m\u001B[1;33m\u001B[0m\u001B[0m\n\u001B[0;32m     26\u001B[0m         \u001B[0mtime\u001B[0m\u001B[1;33m.\u001B[0m\u001B[0msleep\u001B[0m\u001B[1;33m(\u001B[0m\u001B[1;36m2\u001B[0m\u001B[1;33m)\u001B[0m\u001B[1;33m\u001B[0m\u001B[1;33m\u001B[0m\u001B[0m\n",
      "\u001B[1;31mTypeError\u001B[0m: can only concatenate str (not \"int\") to str"
     ]
    }
   ],
   "source": [
    "import csv\n",
    "from tqdm import tqdm\n",
    "import pandas\n",
    "\n",
    "\n",
    "SSD_LIST = []\n",
    "\n",
    "with open(\"ssds_2.csv\", mode=\"w\", encoding='cp1251') as w_file:\n",
    "    for link in tqdm(SSD_LINKS_LIST):\n",
    "        html = getHTML(link)\n",
    "        try:\n",
    "            id_s = getID(html)\n",
    "        except:\n",
    "            time.sleep(60)\n",
    "            html = getHTML(link)\n",
    "            id_s = getID(html)\n",
    "        price = getPrice(html)\n",
    "        specifications = getSpecifications(html)\n",
    "        file_writer = csv.writer(w_file, delimiter = \";\", lineterminator=\"\\r\")\n",
    "        to_write = {'ID': id_s, 'Price' : price, **specifications}\n",
    "        SSD_LIST.append(to_write)\n",
    "        to_write_mas = []\n",
    "        for k,v in to_write.items():\n",
    "            to_write_mas.append(k + ':' + v)\n",
    "        file_writer.writerow(to_write_mas)\n",
    "        time.sleep(2)\n",
    "\n",
    "print('Program finished!')"
   ]
  },
  {
   "cell_type": "code",
   "execution_count": 34,
   "outputs": [
    {
     "name": "stderr",
     "output_type": "stream",
     "text": [
      " 17%|█▋        | 81/483 [07:09<35:30,  5.30s/it]  \n"
     ]
    },
    {
     "ename": "AttributeError",
     "evalue": "'NoneType' object has no attribute 'text'",
     "output_type": "error",
     "traceback": [
      "\u001B[1;31m---------------------------------------------------------------------------\u001B[0m",
      "\u001B[1;31mAttributeError\u001B[0m                            Traceback (most recent call last)",
      "\u001B[1;32m~\\AppData\\Local\\Temp\\ipykernel_10816\\2570816463.py\u001B[0m in \u001B[0;36mgetID\u001B[1;34m(HTML)\u001B[0m\n\u001B[0;32m      9\u001B[0m     \u001B[1;32mtry\u001B[0m\u001B[1;33m:\u001B[0m\u001B[1;33m\u001B[0m\u001B[1;33m\u001B[0m\u001B[0m\n\u001B[1;32m---> 10\u001B[1;33m         \u001B[0mnum\u001B[0m \u001B[1;33m=\u001B[0m \u001B[0mBeautifulSoup\u001B[0m\u001B[1;33m(\u001B[0m\u001B[0mHTML\u001B[0m\u001B[1;33m)\u001B[0m\u001B[1;33m.\u001B[0m\u001B[0mfind\u001B[0m\u001B[1;33m(\u001B[0m\u001B[1;34m'div'\u001B[0m\u001B[1;33m,\u001B[0m \u001B[1;33m{\u001B[0m\u001B[1;34m'class'\u001B[0m\u001B[1;33m:\u001B[0m \u001B[1;34m'ProductHeader__product-id'\u001B[0m\u001B[1;33m}\u001B[0m\u001B[1;33m)\u001B[0m\u001B[1;33m.\u001B[0m\u001B[0mtext\u001B[0m\u001B[1;33m\u001B[0m\u001B[1;33m\u001B[0m\u001B[0m\n\u001B[0m\u001B[0;32m     11\u001B[0m     \u001B[1;32mexcept\u001B[0m\u001B[1;33m:\u001B[0m\u001B[1;33m\u001B[0m\u001B[1;33m\u001B[0m\u001B[0m\n",
      "\u001B[1;31mAttributeError\u001B[0m: 'NoneType' object has no attribute 'text'",
      "\nDuring handling of the above exception, another exception occurred:\n",
      "\u001B[1;31mAttributeError\u001B[0m                            Traceback (most recent call last)",
      "\u001B[1;32m~\\AppData\\Local\\Temp\\ipykernel_10816\\2087623257.py\u001B[0m in \u001B[0;36m<module>\u001B[1;34m\u001B[0m\n\u001B[0;32m     10\u001B[0m     \u001B[1;32mtry\u001B[0m\u001B[1;33m:\u001B[0m\u001B[1;33m\u001B[0m\u001B[1;33m\u001B[0m\u001B[0m\n\u001B[1;32m---> 11\u001B[1;33m         \u001B[0mid_s\u001B[0m \u001B[1;33m=\u001B[0m \u001B[0mgetID\u001B[0m\u001B[1;33m(\u001B[0m\u001B[0mhtml\u001B[0m\u001B[1;33m)\u001B[0m\u001B[1;33m\u001B[0m\u001B[1;33m\u001B[0m\u001B[0m\n\u001B[0m\u001B[0;32m     12\u001B[0m     \u001B[1;32mexcept\u001B[0m\u001B[1;33m:\u001B[0m\u001B[1;33m\u001B[0m\u001B[1;33m\u001B[0m\u001B[0m\n",
      "\u001B[1;32m~\\AppData\\Local\\Temp\\ipykernel_10816\\2570816463.py\u001B[0m in \u001B[0;36mgetID\u001B[1;34m(HTML)\u001B[0m\n\u001B[0;32m     11\u001B[0m     \u001B[1;32mexcept\u001B[0m\u001B[1;33m:\u001B[0m\u001B[1;33m\u001B[0m\u001B[1;33m\u001B[0m\u001B[0m\n\u001B[1;32m---> 12\u001B[1;33m         \u001B[0mnum\u001B[0m \u001B[1;33m=\u001B[0m \u001B[0mBeautifulSoup\u001B[0m\u001B[1;33m(\u001B[0m\u001B[0mHTML\u001B[0m\u001B[1;33m)\u001B[0m\u001B[1;33m.\u001B[0m\u001B[0mfind\u001B[0m\u001B[1;33m(\u001B[0m\u001B[1;34m'div'\u001B[0m\u001B[1;33m,\u001B[0m \u001B[1;33m{\u001B[0m\u001B[1;34m'class'\u001B[0m\u001B[1;33m:\u001B[0m \u001B[1;34m'ProductPageUsersActivity__product-id'\u001B[0m\u001B[1;33m}\u001B[0m\u001B[1;33m)\u001B[0m\u001B[1;33m.\u001B[0m\u001B[0mtext\u001B[0m\u001B[1;33m\u001B[0m\u001B[1;33m\u001B[0m\u001B[0m\n\u001B[0m\u001B[0;32m     13\u001B[0m     \u001B[0mnum\u001B[0m \u001B[1;33m=\u001B[0m \u001B[0mnum\u001B[0m\u001B[1;33m.\u001B[0m\u001B[0mstrip\u001B[0m\u001B[1;33m(\u001B[0m\u001B[1;33m)\u001B[0m\u001B[1;33m\u001B[0m\u001B[1;33m\u001B[0m\u001B[0m\n",
      "\u001B[1;31mAttributeError\u001B[0m: 'NoneType' object has no attribute 'text'",
      "\nDuring handling of the above exception, another exception occurred:\n",
      "\u001B[1;31mAttributeError\u001B[0m                            Traceback (most recent call last)",
      "\u001B[1;32m~\\AppData\\Local\\Temp\\ipykernel_10816\\2570816463.py\u001B[0m in \u001B[0;36mgetID\u001B[1;34m(HTML)\u001B[0m\n\u001B[0;32m      9\u001B[0m     \u001B[1;32mtry\u001B[0m\u001B[1;33m:\u001B[0m\u001B[1;33m\u001B[0m\u001B[1;33m\u001B[0m\u001B[0m\n\u001B[1;32m---> 10\u001B[1;33m         \u001B[0mnum\u001B[0m \u001B[1;33m=\u001B[0m \u001B[0mBeautifulSoup\u001B[0m\u001B[1;33m(\u001B[0m\u001B[0mHTML\u001B[0m\u001B[1;33m)\u001B[0m\u001B[1;33m.\u001B[0m\u001B[0mfind\u001B[0m\u001B[1;33m(\u001B[0m\u001B[1;34m'div'\u001B[0m\u001B[1;33m,\u001B[0m \u001B[1;33m{\u001B[0m\u001B[1;34m'class'\u001B[0m\u001B[1;33m:\u001B[0m \u001B[1;34m'ProductHeader__product-id'\u001B[0m\u001B[1;33m}\u001B[0m\u001B[1;33m)\u001B[0m\u001B[1;33m.\u001B[0m\u001B[0mtext\u001B[0m\u001B[1;33m\u001B[0m\u001B[1;33m\u001B[0m\u001B[0m\n\u001B[0m\u001B[0;32m     11\u001B[0m     \u001B[1;32mexcept\u001B[0m\u001B[1;33m:\u001B[0m\u001B[1;33m\u001B[0m\u001B[1;33m\u001B[0m\u001B[0m\n",
      "\u001B[1;31mAttributeError\u001B[0m: 'NoneType' object has no attribute 'text'",
      "\nDuring handling of the above exception, another exception occurred:\n",
      "\u001B[1;31mAttributeError\u001B[0m                            Traceback (most recent call last)",
      "\u001B[1;32m~\\AppData\\Local\\Temp\\ipykernel_10816\\2087623257.py\u001B[0m in \u001B[0;36m<module>\u001B[1;34m\u001B[0m\n\u001B[0;32m     13\u001B[0m         \u001B[0mtime\u001B[0m\u001B[1;33m.\u001B[0m\u001B[0msleep\u001B[0m\u001B[1;33m(\u001B[0m\u001B[1;36m60\u001B[0m\u001B[1;33m)\u001B[0m\u001B[1;33m\u001B[0m\u001B[1;33m\u001B[0m\u001B[0m\n\u001B[0;32m     14\u001B[0m         \u001B[0mhtml\u001B[0m \u001B[1;33m=\u001B[0m \u001B[0mgetHTML\u001B[0m\u001B[1;33m(\u001B[0m\u001B[0mlink\u001B[0m\u001B[1;33m)\u001B[0m\u001B[1;33m\u001B[0m\u001B[1;33m\u001B[0m\u001B[0m\n\u001B[1;32m---> 15\u001B[1;33m         \u001B[0mid_s\u001B[0m \u001B[1;33m=\u001B[0m \u001B[0mgetID\u001B[0m\u001B[1;33m(\u001B[0m\u001B[0mhtml\u001B[0m\u001B[1;33m)\u001B[0m\u001B[1;33m\u001B[0m\u001B[1;33m\u001B[0m\u001B[0m\n\u001B[0m\u001B[0;32m     16\u001B[0m     \u001B[0mprice\u001B[0m \u001B[1;33m=\u001B[0m \u001B[0mgetPrice\u001B[0m\u001B[1;33m(\u001B[0m\u001B[0mhtml\u001B[0m\u001B[1;33m)\u001B[0m\u001B[1;33m\u001B[0m\u001B[1;33m\u001B[0m\u001B[0m\n\u001B[0;32m     17\u001B[0m     \u001B[0mspecifications\u001B[0m \u001B[1;33m=\u001B[0m \u001B[0mgetSpecifications\u001B[0m\u001B[1;33m(\u001B[0m\u001B[0mhtml\u001B[0m\u001B[1;33m)\u001B[0m\u001B[1;33m\u001B[0m\u001B[1;33m\u001B[0m\u001B[0m\n",
      "\u001B[1;32m~\\AppData\\Local\\Temp\\ipykernel_10816\\2570816463.py\u001B[0m in \u001B[0;36mgetID\u001B[1;34m(HTML)\u001B[0m\n\u001B[0;32m     10\u001B[0m         \u001B[0mnum\u001B[0m \u001B[1;33m=\u001B[0m \u001B[0mBeautifulSoup\u001B[0m\u001B[1;33m(\u001B[0m\u001B[0mHTML\u001B[0m\u001B[1;33m)\u001B[0m\u001B[1;33m.\u001B[0m\u001B[0mfind\u001B[0m\u001B[1;33m(\u001B[0m\u001B[1;34m'div'\u001B[0m\u001B[1;33m,\u001B[0m \u001B[1;33m{\u001B[0m\u001B[1;34m'class'\u001B[0m\u001B[1;33m:\u001B[0m \u001B[1;34m'ProductHeader__product-id'\u001B[0m\u001B[1;33m}\u001B[0m\u001B[1;33m)\u001B[0m\u001B[1;33m.\u001B[0m\u001B[0mtext\u001B[0m\u001B[1;33m\u001B[0m\u001B[1;33m\u001B[0m\u001B[0m\n\u001B[0;32m     11\u001B[0m     \u001B[1;32mexcept\u001B[0m\u001B[1;33m:\u001B[0m\u001B[1;33m\u001B[0m\u001B[1;33m\u001B[0m\u001B[0m\n\u001B[1;32m---> 12\u001B[1;33m         \u001B[0mnum\u001B[0m \u001B[1;33m=\u001B[0m \u001B[0mBeautifulSoup\u001B[0m\u001B[1;33m(\u001B[0m\u001B[0mHTML\u001B[0m\u001B[1;33m)\u001B[0m\u001B[1;33m.\u001B[0m\u001B[0mfind\u001B[0m\u001B[1;33m(\u001B[0m\u001B[1;34m'div'\u001B[0m\u001B[1;33m,\u001B[0m \u001B[1;33m{\u001B[0m\u001B[1;34m'class'\u001B[0m\u001B[1;33m:\u001B[0m \u001B[1;34m'ProductPageUsersActivity__product-id'\u001B[0m\u001B[1;33m}\u001B[0m\u001B[1;33m)\u001B[0m\u001B[1;33m.\u001B[0m\u001B[0mtext\u001B[0m\u001B[1;33m\u001B[0m\u001B[1;33m\u001B[0m\u001B[0m\n\u001B[0m\u001B[0;32m     13\u001B[0m     \u001B[0mnum\u001B[0m \u001B[1;33m=\u001B[0m \u001B[0mnum\u001B[0m\u001B[1;33m.\u001B[0m\u001B[0mstrip\u001B[0m\u001B[1;33m(\u001B[0m\u001B[1;33m)\u001B[0m\u001B[1;33m\u001B[0m\u001B[1;33m\u001B[0m\u001B[0m\n\u001B[0;32m     14\u001B[0m     \u001B[0mnum2\u001B[0m \u001B[1;33m=\u001B[0m \u001B[0mre\u001B[0m\u001B[1;33m.\u001B[0m\u001B[0msplit\u001B[0m\u001B[1;33m(\u001B[0m\u001B[1;34m':'\u001B[0m\u001B[1;33m,\u001B[0m \u001B[0mnum\u001B[0m\u001B[1;33m)\u001B[0m\u001B[1;33m\u001B[0m\u001B[1;33m\u001B[0m\u001B[0m\n",
      "\u001B[1;31mAttributeError\u001B[0m: 'NoneType' object has no attribute 'text'"
     ]
    }
   ],
   "source": [
    "\n",
    "from tqdm import tqdm\n",
    "import pandas\n",
    "\n",
    "\n",
    "SSD_LIST = []\n",
    "\n",
    "\n",
    "for link in tqdm(SSD_LINKS_LIST):\n",
    "    html = getHTML(link)\n",
    "    try:\n",
    "        id_s = getID(html)\n",
    "    except:\n",
    "        time.sleep(60)\n",
    "        html = getHTML(link)\n",
    "        id_s = getID(html)\n",
    "    price = getPrice(html)\n",
    "    specifications = getSpecifications(html)\n",
    "    to_write = {'ID': id_s, 'Price' : price, **specifications}\n",
    "    SSD_LIST.append(to_write)\n",
    "    time.sleep(2)\n",
    "df = pandas.DataFrame(SSD_LIST).to_excel('some ssds_2.xlsx')\n",
    "print('Program finished!')"
   ],
   "metadata": {
    "collapsed": false,
    "pycharm": {
     "name": "#%%\n"
    }
   }
  },
  {
   "cell_type": "code",
   "execution_count": 35,
   "id": "ce73465c",
   "metadata": {
    "pycharm": {
     "name": "#%%\n"
    }
   },
   "outputs": [],
   "source": [
    "pandas.DataFrame(SSD_LIST).to_excel('some ssds_2.xlsx')"
   ]
  },
  {
   "cell_type": "code",
   "execution_count": 26,
   "outputs": [
    {
     "ename": "NameError",
     "evalue": "name 'df' is not defined",
     "output_type": "error",
     "traceback": [
      "\u001B[1;31m---------------------------------------------------------------------------\u001B[0m",
      "\u001B[1;31mNameError\u001B[0m                                 Traceback (most recent call last)",
      "\u001B[1;32m~\\AppData\\Local\\Temp\\ipykernel_10816\\3437826779.py\u001B[0m in \u001B[0;36m<module>\u001B[1;34m\u001B[0m\n\u001B[1;32m----> 1\u001B[1;33m \u001B[0mdf\u001B[0m\u001B[1;33m\u001B[0m\u001B[1;33m\u001B[0m\u001B[0m\n\u001B[0m",
      "\u001B[1;31mNameError\u001B[0m: name 'df' is not defined"
     ]
    }
   ],
   "source": [
    "df"
   ],
   "metadata": {
    "collapsed": false,
    "pycharm": {
     "name": "#%%\n"
    }
   }
  },
  {
   "cell_type": "code",
   "execution_count": 32,
   "outputs": [
    {
     "data": {
      "text/plain": "12890"
     },
     "execution_count": 32,
     "metadata": {},
     "output_type": "execute_result"
    }
   ],
   "source": [
    "int(BeautifulSoup(html).find('span', {'class': 'FairPricePopup__price-block_summary js--FairPricePopup__price-block_summary_current-price js--FairPricePopup__price-block_summary js--FairPricePopup__price-block_summary_current-price'}).text.strip().replace(' ', ''))"
   ],
   "metadata": {
    "collapsed": false,
    "pycharm": {
     "name": "#%%\n"
    }
   }
  },
  {
   "cell_type": "code",
   "execution_count": 27,
   "outputs": [
    {
     "data": {
      "text/plain": "         ID  Price     Брэнд             Модель Тип жесткого диска  \\\n0    420253   2890  KINGSTON      SA400S37/480G                SSD   \n1    420251   1790  KINGSTON      SA400S37/240G                SSD   \n2   1651622   2390     DIGMA      DGSR2512GS93T                SSD   \n3   1651620   1290     DIGMA      DGSR2256GS93T                SSD   \n4   1740428   1290  KINGSPEC             P3-256                SSD   \n..      ...    ...       ...                ...                ...   \n60  1121163   2390    A-DATA  AGAMMIXS5-256GT-C                SSD   \n61  1738041   1590      DATO     DS700SSD-256GB                SSD   \n62  1824997   7990   SAMSUNG        MZ-V8V1T0BW                SSD   \n63  1618423   1590     DIGMA      DGSM3256GS33T                SSD   \n64  1742062   1390  KINGSPEC             NE-256                SSD   \n\n   Объем накопителя Форм-фактор  Интерфейс   Тип памяти NAND  \\\n0            480 ГБ        2.5\"   SATA III           3D NAND   \n1            240 ГБ        2.5\"   SATA III               TLC   \n2            512 ГБ        2.5\"   SATA III            3D TLC   \n3            256 ГБ        2.5\"   SATA III            3D TLC   \n4            256 ГБ        2.5\"   SATA III               NaN   \n..              ...         ...        ...               ...   \n60           256 ГБ    M.2 2280   PCI-E x4            3D TLC   \n61           256 ГБ        2.5\"   SATA III       3D NAND TLC   \n62             1 ТБ    M.2 2280   PCI-E x4  V-NAND 3-bit MLC   \n63           256 ГБ    M.2 2280   PCI-E x4            3D TLC   \n64           256 ГБ    M.2 2280  PCI-E 3.0            3D TLC   \n\n   Максимальная скорость чтения  ...           Контроллер NAND  \\\n0                      500 МБ/с  ...                       NaN   \n1                      500 МБ/с  ...                       NaN   \n2                      520 МБ/с  ...   Silicon Motion SM2259XT   \n3                      510 МБ/с  ...   Silicon Motion SM2259XT   \n4                      550 МБ/с  ...                       NaN   \n..                          ...  ...                       ...   \n60                    2100 МБ/с  ...                       NaN   \n61                     545 МБ/с  ...                       NaN   \n62                    3500 МБ/с  ...  Samsung Pablo Controller   \n63                    2040 МБ/с  ...   Silicon Motion SM2263XT   \n64                    2200 МБ/с  ...                       NaN   \n\n   Скорость произвольного чтения (4KB) (IOPS)  \\\n0                                         NaN   \n1                                         NaN   \n2                                       60000   \n3                                       50000   \n4                                       70600   \n..                                        ...   \n60                                     190000   \n61                                        NaN   \n62                                     500000   \n63                                      75000   \n64                                      76400   \n\n   Скорость произвольной записи (4KB) (IOPS) Тип поставки Разъем  \\\n0                                        NaN          NaN    NaN   \n1                                        NaN          NaN    NaN   \n2                                      75000          rtl    NaN   \n3                                      73000          rtl    NaN   \n4                                      74400          NaN   SATA   \n..                                       ...          ...    ...   \n60                                    180000          NaN    M.2   \n61                                       NaN          NaN    NaN   \n62                                    480000          NaN    M.2   \n63                                     90000          rtl    NaN   \n64                                     96200          NaN    NaN   \n\n                             Особенности Поддержка NVMe Латентность, запись  \\\n0                                    NaN            NaN                 NaN   \n1                                    NaN            NaN                 NaN   \n2                                    NaN            NaN                 NaN   \n3                                    NaN            NaN                 NaN   \n4   эта модель представлена в 2-х цветах            NaN                 NaN   \n..                                   ...            ...                 ...   \n60                                   NaN           есть                 NaN   \n61                                   NaN            NaN                 NaN   \n62                                   NaN           есть                 NaN   \n63                                   NaN           есть                 NaN   \n64                                   NaN           есть                 NaN   \n\n   Радиатор охлаждения Объем кэш-памяти SSD  \n0                  NaN                  NaN  \n1                  NaN                  NaN  \n2                  NaN                  NaN  \n3                  NaN                  NaN  \n4                  NaN                  NaN  \n..                 ...                  ...  \n60                есть                  NaN  \n61                 NaN                  NaN  \n62                 NaN                  NaN  \n63                 NaN                  NaN  \n64                 NaN                  NaN  \n\n[65 rows x 30 columns]",
      "text/html": "<div>\n<style scoped>\n    .dataframe tbody tr th:only-of-type {\n        vertical-align: middle;\n    }\n\n    .dataframe tbody tr th {\n        vertical-align: top;\n    }\n\n    .dataframe thead th {\n        text-align: right;\n    }\n</style>\n<table border=\"1\" class=\"dataframe\">\n  <thead>\n    <tr style=\"text-align: right;\">\n      <th></th>\n      <th>ID</th>\n      <th>Price</th>\n      <th>Брэнд</th>\n      <th>Модель</th>\n      <th>Тип жесткого диска</th>\n      <th>Объем накопителя</th>\n      <th>Форм-фактор</th>\n      <th>Интерфейс</th>\n      <th>Тип памяти NAND</th>\n      <th>Максимальная скорость чтения</th>\n      <th>...</th>\n      <th>Контроллер NAND</th>\n      <th>Скорость произвольного чтения (4KB) (IOPS)</th>\n      <th>Скорость произвольной записи (4KB) (IOPS)</th>\n      <th>Тип поставки</th>\n      <th>Разъем</th>\n      <th>Особенности</th>\n      <th>Поддержка NVMe</th>\n      <th>Латентность, запись</th>\n      <th>Радиатор охлаждения</th>\n      <th>Объем кэш-памяти SSD</th>\n    </tr>\n  </thead>\n  <tbody>\n    <tr>\n      <th>0</th>\n      <td>420253</td>\n      <td>2890</td>\n      <td>KINGSTON</td>\n      <td>SA400S37/480G</td>\n      <td>SSD</td>\n      <td>480 ГБ</td>\n      <td>2.5\"</td>\n      <td>SATA III</td>\n      <td>3D NAND</td>\n      <td>500 МБ/с</td>\n      <td>...</td>\n      <td>NaN</td>\n      <td>NaN</td>\n      <td>NaN</td>\n      <td>NaN</td>\n      <td>NaN</td>\n      <td>NaN</td>\n      <td>NaN</td>\n      <td>NaN</td>\n      <td>NaN</td>\n      <td>NaN</td>\n    </tr>\n    <tr>\n      <th>1</th>\n      <td>420251</td>\n      <td>1790</td>\n      <td>KINGSTON</td>\n      <td>SA400S37/240G</td>\n      <td>SSD</td>\n      <td>240 ГБ</td>\n      <td>2.5\"</td>\n      <td>SATA III</td>\n      <td>TLC</td>\n      <td>500 МБ/с</td>\n      <td>...</td>\n      <td>NaN</td>\n      <td>NaN</td>\n      <td>NaN</td>\n      <td>NaN</td>\n      <td>NaN</td>\n      <td>NaN</td>\n      <td>NaN</td>\n      <td>NaN</td>\n      <td>NaN</td>\n      <td>NaN</td>\n    </tr>\n    <tr>\n      <th>2</th>\n      <td>1651622</td>\n      <td>2390</td>\n      <td>DIGMA</td>\n      <td>DGSR2512GS93T</td>\n      <td>SSD</td>\n      <td>512 ГБ</td>\n      <td>2.5\"</td>\n      <td>SATA III</td>\n      <td>3D TLC</td>\n      <td>520 МБ/с</td>\n      <td>...</td>\n      <td>Silicon Motion SM2259XT</td>\n      <td>60000</td>\n      <td>75000</td>\n      <td>rtl</td>\n      <td>NaN</td>\n      <td>NaN</td>\n      <td>NaN</td>\n      <td>NaN</td>\n      <td>NaN</td>\n      <td>NaN</td>\n    </tr>\n    <tr>\n      <th>3</th>\n      <td>1651620</td>\n      <td>1290</td>\n      <td>DIGMA</td>\n      <td>DGSR2256GS93T</td>\n      <td>SSD</td>\n      <td>256 ГБ</td>\n      <td>2.5\"</td>\n      <td>SATA III</td>\n      <td>3D TLC</td>\n      <td>510 МБ/с</td>\n      <td>...</td>\n      <td>Silicon Motion SM2259XT</td>\n      <td>50000</td>\n      <td>73000</td>\n      <td>rtl</td>\n      <td>NaN</td>\n      <td>NaN</td>\n      <td>NaN</td>\n      <td>NaN</td>\n      <td>NaN</td>\n      <td>NaN</td>\n    </tr>\n    <tr>\n      <th>4</th>\n      <td>1740428</td>\n      <td>1290</td>\n      <td>KINGSPEC</td>\n      <td>P3-256</td>\n      <td>SSD</td>\n      <td>256 ГБ</td>\n      <td>2.5\"</td>\n      <td>SATA III</td>\n      <td>NaN</td>\n      <td>550 МБ/с</td>\n      <td>...</td>\n      <td>NaN</td>\n      <td>70600</td>\n      <td>74400</td>\n      <td>NaN</td>\n      <td>SATA</td>\n      <td>эта модель представлена в 2-х цветах</td>\n      <td>NaN</td>\n      <td>NaN</td>\n      <td>NaN</td>\n      <td>NaN</td>\n    </tr>\n    <tr>\n      <th>...</th>\n      <td>...</td>\n      <td>...</td>\n      <td>...</td>\n      <td>...</td>\n      <td>...</td>\n      <td>...</td>\n      <td>...</td>\n      <td>...</td>\n      <td>...</td>\n      <td>...</td>\n      <td>...</td>\n      <td>...</td>\n      <td>...</td>\n      <td>...</td>\n      <td>...</td>\n      <td>...</td>\n      <td>...</td>\n      <td>...</td>\n      <td>...</td>\n      <td>...</td>\n      <td>...</td>\n    </tr>\n    <tr>\n      <th>60</th>\n      <td>1121163</td>\n      <td>2390</td>\n      <td>A-DATA</td>\n      <td>AGAMMIXS5-256GT-C</td>\n      <td>SSD</td>\n      <td>256 ГБ</td>\n      <td>M.2 2280</td>\n      <td>PCI-E x4</td>\n      <td>3D TLC</td>\n      <td>2100 МБ/с</td>\n      <td>...</td>\n      <td>NaN</td>\n      <td>190000</td>\n      <td>180000</td>\n      <td>NaN</td>\n      <td>M.2</td>\n      <td>NaN</td>\n      <td>есть</td>\n      <td>NaN</td>\n      <td>есть</td>\n      <td>NaN</td>\n    </tr>\n    <tr>\n      <th>61</th>\n      <td>1738041</td>\n      <td>1590</td>\n      <td>DATO</td>\n      <td>DS700SSD-256GB</td>\n      <td>SSD</td>\n      <td>256 ГБ</td>\n      <td>2.5\"</td>\n      <td>SATA III</td>\n      <td>3D NAND TLC</td>\n      <td>545 МБ/с</td>\n      <td>...</td>\n      <td>NaN</td>\n      <td>NaN</td>\n      <td>NaN</td>\n      <td>NaN</td>\n      <td>NaN</td>\n      <td>NaN</td>\n      <td>NaN</td>\n      <td>NaN</td>\n      <td>NaN</td>\n      <td>NaN</td>\n    </tr>\n    <tr>\n      <th>62</th>\n      <td>1824997</td>\n      <td>7990</td>\n      <td>SAMSUNG</td>\n      <td>MZ-V8V1T0BW</td>\n      <td>SSD</td>\n      <td>1 ТБ</td>\n      <td>M.2 2280</td>\n      <td>PCI-E x4</td>\n      <td>V-NAND 3-bit MLC</td>\n      <td>3500 МБ/с</td>\n      <td>...</td>\n      <td>Samsung Pablo Controller</td>\n      <td>500000</td>\n      <td>480000</td>\n      <td>NaN</td>\n      <td>M.2</td>\n      <td>NaN</td>\n      <td>есть</td>\n      <td>NaN</td>\n      <td>NaN</td>\n      <td>NaN</td>\n    </tr>\n    <tr>\n      <th>63</th>\n      <td>1618423</td>\n      <td>1590</td>\n      <td>DIGMA</td>\n      <td>DGSM3256GS33T</td>\n      <td>SSD</td>\n      <td>256 ГБ</td>\n      <td>M.2 2280</td>\n      <td>PCI-E x4</td>\n      <td>3D TLC</td>\n      <td>2040 МБ/с</td>\n      <td>...</td>\n      <td>Silicon Motion SM2263XT</td>\n      <td>75000</td>\n      <td>90000</td>\n      <td>rtl</td>\n      <td>NaN</td>\n      <td>NaN</td>\n      <td>есть</td>\n      <td>NaN</td>\n      <td>NaN</td>\n      <td>NaN</td>\n    </tr>\n    <tr>\n      <th>64</th>\n      <td>1742062</td>\n      <td>1390</td>\n      <td>KINGSPEC</td>\n      <td>NE-256</td>\n      <td>SSD</td>\n      <td>256 ГБ</td>\n      <td>M.2 2280</td>\n      <td>PCI-E 3.0</td>\n      <td>3D TLC</td>\n      <td>2200 МБ/с</td>\n      <td>...</td>\n      <td>NaN</td>\n      <td>76400</td>\n      <td>96200</td>\n      <td>NaN</td>\n      <td>NaN</td>\n      <td>NaN</td>\n      <td>есть</td>\n      <td>NaN</td>\n      <td>NaN</td>\n      <td>NaN</td>\n    </tr>\n  </tbody>\n</table>\n<p>65 rows × 30 columns</p>\n</div>"
     },
     "execution_count": 27,
     "metadata": {},
     "output_type": "execute_result"
    }
   ],
   "source": [
    "pandas.DataFrame(SSD_LIST)"
   ],
   "metadata": {
    "collapsed": false,
    "pycharm": {
     "name": "#%%\n"
    }
   }
  },
  {
   "cell_type": "code",
   "execution_count": null,
   "outputs": [],
   "source": [],
   "metadata": {
    "collapsed": false,
    "pycharm": {
     "name": "#%%\n"
    }
   }
  }
 ],
 "metadata": {
  "kernelspec": {
   "display_name": "Python 3 (ipykernel)",
   "language": "python",
   "name": "python3"
  },
  "language_info": {
   "codemirror_mode": {
    "name": "ipython",
    "version": 3
   },
   "file_extension": ".py",
   "mimetype": "text/x-python",
   "name": "python",
   "nbconvert_exporter": "python",
   "pygments_lexer": "ipython3",
   "version": "3.9.12"
  }
 },
 "nbformat": 4,
 "nbformat_minor": 5
}