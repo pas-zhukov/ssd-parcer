{
 "cells": [
  {
   "cell_type": "code",
   "execution_count": 4,
   "id": "7b1030d5",
   "metadata": {},
   "outputs": [
    {
     "data": {
      "text/plain": [
       "<Response [200]>"
      ]
     },
     "execution_count": 4,
     "metadata": {},
     "output_type": "execute_result"
    }
   ],
   "source": [
    "import requests\n",
    "from bs4 import BeautifulSoup\n",
    "\n",
    "URL = 'https://www.citilink.ru/catalog/ssd-nakopiteli/'\n",
    "URL = requests.head(URL, allow_redirects=True).url\n",
    "requests.get(URL)"
   ]
  },
  {
   "cell_type": "code",
   "execution_count": 5,
   "id": "97839561",
   "metadata": {},
   "outputs": [
    {
     "name": "stdout",
     "output_type": "stream",
     "text": [
      "0\n"
     ]
    }
   ],
   "source": [
    "from ipywidgets import IntProgress\n",
    "from IPython.display import display\n",
    "import tqdm\n",
    "\n",
    "def URLsFromPage(base_url = 'https://www.citilink.ru/catalog/ssd-nakopiteli/'):\n",
    "    \n",
    "    #функция предназначена для извлечения ссылок на каждый товар в опеределенной категории товаров\n",
    "    prgBar = IntProgress(min = 0, max = getPagesAmount(requests.get(base_url).text)) # Создаем прогрессбар\n",
    "    display(prgBar)\n",
    "    \n",
    "    links = [] #список для ссылок на каждый товар\n",
    "    \n",
    "    for page in range(1, getPagesAmount(requests.get(base_url).text)+1, 1):\n",
    "        \n",
    "        URL = base_url + '?p=' + str(page)\n",
    "        \n",
    "        html = requests.get(URL).text\n",
    "    \n",
    "        products_list = BeautifulSoup(html).findAll('a',\n",
    "                                        {'class': 'ProductCardVertical__name Link js--Link Link_type_default'})\n",
    "\n",
    "        for product in products_list:\n",
    "            links.append('https://www.citilink.ru' + BeautifulSoup.get(product, 'href') + 'properties/')\n",
    "        prgBar.value += 1\n",
    "    \n",
    "    return links\n",
    "    \n",
    "    \n",
    "def getPagesAmount(html1):\n",
    "    \n",
    "    pages_amount = BeautifulSoup(html1).find('a', {'class': 'PaginationWidget__page js--PaginationWidget__page PaginationWidget__page_last PaginationWidget__page-link'})\n",
    "\n",
    "    pages_amount = BeautifulSoup.get(pages_amount, 'data-page')\n",
    "\n",
    "    pages_amount = int(pages_amount)\n",
    "    \n",
    "    return pages_amount\n",
    "\n",
    "print(0)"
   ]
  },
  {
   "cell_type": "code",
   "execution_count": 6,
   "id": "bb56c98a",
   "metadata": {},
   "outputs": [
    {
     "data": {
      "application/vnd.jupyter.widget-view+json": {
       "model_id": "9bd682af909c46bcab6438fadab29925",
       "version_major": 2,
       "version_minor": 0
      },
      "text/plain": [
       "IntProgress(value=0, max=11)"
      ]
     },
     "metadata": {},
     "output_type": "display_data"
    }
   ],
   "source": [
    "\n",
    "SSD_LINKS_LIST = URLsFromPage()\n",
    "    "
   ]
  },
  {
   "cell_type": "code",
   "execution_count": 7,
   "id": "58260717",
   "metadata": {},
   "outputs": [
    {
     "data": {
      "text/plain": [
       "485"
      ]
     },
     "execution_count": 7,
     "metadata": {},
     "output_type": "execute_result"
    }
   ],
   "source": [
    "\n",
    "len(SSD_LINKS_LIST)\n"
   ]
  },
  {
   "cell_type": "code",
   "execution_count": 51,
   "id": "83753bb5",
   "metadata": {},
   "outputs": [],
   "source": [
    "import requests\n",
    "import bs4\n",
    "from bs4 import BeautifulSoup\n",
    "import re\n",
    "import time\n",
    "from pyuser_agent import UA\n",
    "\n",
    "def getHTML(URL):\n",
    "    #agent = 'Mozilla/5.0 (Windows; U; Windows NT 6.1; en-US; rv:1.9.3a3pre) Gecko/20100306 Firefox3.6 (.NET CLR 3.5.30729)'\n",
    "    agent = UA().firefox\n",
    "    html = requests.get(URL, headers={'User-Agent': agent}).text\n",
    "    return html\n",
    "\n",
    "def getSpecifications(html):\n",
    "    table = BeautifulSoup(html).find('div', {'class': 'col2 xs-col3 ml-col-start-2 ml-col-3'}).findAll('div', {'class': 'Specifications__row'})\n",
    "    table_2 = {}\n",
    "    for t in table:\n",
    "        name = t.find('div', {'class' : 'Specifications__column Specifications__column_name'}).text.strip()\n",
    "        value = t.find('div', {'class' : 'Specifications__column Specifications__column_value'}).text.strip()\n",
    "        if re.match('Гарантий', name):\n",
    "            name = 'Гарантийное обслуживание'\n",
    "        table_2[name]=value\n",
    "\n",
    "    return table_2"
   ]
  },
  {
   "cell_type": "code",
   "execution_count": 53,
   "id": "1934d225",
   "metadata": {},
   "outputs": [],
   "source": [
    "import requests\n",
    "import bs4\n",
    "from bs4 import BeautifulSoup\n",
    "import re\n",
    "import time\n",
    "\n",
    "\n",
    "def getID(HTML):\n",
    "    try:\n",
    "        num = BeautifulSoup(HTML).find('div', {'class': 'ProductHeader__product-id'}).text\n",
    "    except:\n",
    "        num = BeautifulSoup(HTML).find('div', {'class': 'ProductPageUsersActivity__product-id'}).text\n",
    "    num = num.strip()\n",
    "    num2 = re.split(':', num)\n",
    "    num = num2[1].strip()\n",
    "    return num\n"
   ]
  },
  {
   "cell_type": "code",
   "execution_count": 61,
   "id": "3ac70517",
   "metadata": {},
   "outputs": [
    {
     "name": "stderr",
     "output_type": "stream",
     "text": [
      " 77%|█████████████████████████████████████████████████████████████▋                  | 374/485 [29:55<08:52,  4.80s/it]\n"
     ]
    },
    {
     "ename": "AttributeError",
     "evalue": "'NoneType' object has no attribute 'text'",
     "output_type": "error",
     "traceback": [
      "\u001b[1;31m---------------------------------------------------------------------------\u001b[0m",
      "\u001b[1;31mAttributeError\u001b[0m                            Traceback (most recent call last)",
      "Input \u001b[1;32mIn [53]\u001b[0m, in \u001b[0;36mgetID\u001b[1;34m(HTML)\u001b[0m\n\u001b[0;32m      9\u001b[0m \u001b[38;5;28;01mtry\u001b[39;00m:\n\u001b[1;32m---> 10\u001b[0m     num \u001b[38;5;241m=\u001b[39m \u001b[43mBeautifulSoup\u001b[49m\u001b[43m(\u001b[49m\u001b[43mHTML\u001b[49m\u001b[43m)\u001b[49m\u001b[38;5;241;43m.\u001b[39;49m\u001b[43mfind\u001b[49m\u001b[43m(\u001b[49m\u001b[38;5;124;43m'\u001b[39;49m\u001b[38;5;124;43mdiv\u001b[39;49m\u001b[38;5;124;43m'\u001b[39;49m\u001b[43m,\u001b[49m\u001b[43m \u001b[49m\u001b[43m{\u001b[49m\u001b[38;5;124;43m'\u001b[39;49m\u001b[38;5;124;43mclass\u001b[39;49m\u001b[38;5;124;43m'\u001b[39;49m\u001b[43m:\u001b[49m\u001b[43m \u001b[49m\u001b[38;5;124;43m'\u001b[39;49m\u001b[38;5;124;43mProductHeader__product-id\u001b[39;49m\u001b[38;5;124;43m'\u001b[39;49m\u001b[43m}\u001b[49m\u001b[43m)\u001b[49m\u001b[38;5;241;43m.\u001b[39;49m\u001b[43mtext\u001b[49m\n\u001b[0;32m     11\u001b[0m \u001b[38;5;28;01mexcept\u001b[39;00m:\n",
      "\u001b[1;31mAttributeError\u001b[0m: 'NoneType' object has no attribute 'text'",
      "\nDuring handling of the above exception, another exception occurred:\n",
      "\u001b[1;31mAttributeError\u001b[0m                            Traceback (most recent call last)",
      "Input \u001b[1;32mIn [61]\u001b[0m, in \u001b[0;36m<cell line: 13>\u001b[1;34m()\u001b[0m\n\u001b[0;32m     16\u001b[0m \u001b[38;5;28;01mtry\u001b[39;00m:\n\u001b[1;32m---> 17\u001b[0m     id_s \u001b[38;5;241m=\u001b[39m \u001b[43mgetID\u001b[49m\u001b[43m(\u001b[49m\u001b[43mhtml\u001b[49m\u001b[43m)\u001b[49m\n\u001b[0;32m     18\u001b[0m \u001b[38;5;28;01mexcept\u001b[39;00m:\n",
      "Input \u001b[1;32mIn [53]\u001b[0m, in \u001b[0;36mgetID\u001b[1;34m(HTML)\u001b[0m\n\u001b[0;32m     11\u001b[0m \u001b[38;5;28;01mexcept\u001b[39;00m:\n\u001b[1;32m---> 12\u001b[0m     num \u001b[38;5;241m=\u001b[39m \u001b[43mBeautifulSoup\u001b[49m\u001b[43m(\u001b[49m\u001b[43mHTML\u001b[49m\u001b[43m)\u001b[49m\u001b[38;5;241;43m.\u001b[39;49m\u001b[43mfind\u001b[49m\u001b[43m(\u001b[49m\u001b[38;5;124;43m'\u001b[39;49m\u001b[38;5;124;43mdiv\u001b[39;49m\u001b[38;5;124;43m'\u001b[39;49m\u001b[43m,\u001b[49m\u001b[43m \u001b[49m\u001b[43m{\u001b[49m\u001b[38;5;124;43m'\u001b[39;49m\u001b[38;5;124;43mclass\u001b[39;49m\u001b[38;5;124;43m'\u001b[39;49m\u001b[43m:\u001b[49m\u001b[43m \u001b[49m\u001b[38;5;124;43m'\u001b[39;49m\u001b[38;5;124;43mProductPageUsersActivity__product-id\u001b[39;49m\u001b[38;5;124;43m'\u001b[39;49m\u001b[43m}\u001b[49m\u001b[43m)\u001b[49m\u001b[38;5;241;43m.\u001b[39;49m\u001b[43mtext\u001b[49m\n\u001b[0;32m     13\u001b[0m num \u001b[38;5;241m=\u001b[39m num\u001b[38;5;241m.\u001b[39mstrip()\n",
      "\u001b[1;31mAttributeError\u001b[0m: 'NoneType' object has no attribute 'text'",
      "\nDuring handling of the above exception, another exception occurred:\n",
      "\u001b[1;31mAttributeError\u001b[0m                            Traceback (most recent call last)",
      "Input \u001b[1;32mIn [53]\u001b[0m, in \u001b[0;36mgetID\u001b[1;34m(HTML)\u001b[0m\n\u001b[0;32m      9\u001b[0m \u001b[38;5;28;01mtry\u001b[39;00m:\n\u001b[1;32m---> 10\u001b[0m     num \u001b[38;5;241m=\u001b[39m \u001b[43mBeautifulSoup\u001b[49m\u001b[43m(\u001b[49m\u001b[43mHTML\u001b[49m\u001b[43m)\u001b[49m\u001b[38;5;241;43m.\u001b[39;49m\u001b[43mfind\u001b[49m\u001b[43m(\u001b[49m\u001b[38;5;124;43m'\u001b[39;49m\u001b[38;5;124;43mdiv\u001b[39;49m\u001b[38;5;124;43m'\u001b[39;49m\u001b[43m,\u001b[49m\u001b[43m \u001b[49m\u001b[43m{\u001b[49m\u001b[38;5;124;43m'\u001b[39;49m\u001b[38;5;124;43mclass\u001b[39;49m\u001b[38;5;124;43m'\u001b[39;49m\u001b[43m:\u001b[49m\u001b[43m \u001b[49m\u001b[38;5;124;43m'\u001b[39;49m\u001b[38;5;124;43mProductHeader__product-id\u001b[39;49m\u001b[38;5;124;43m'\u001b[39;49m\u001b[43m}\u001b[49m\u001b[43m)\u001b[49m\u001b[38;5;241;43m.\u001b[39;49m\u001b[43mtext\u001b[49m\n\u001b[0;32m     11\u001b[0m \u001b[38;5;28;01mexcept\u001b[39;00m:\n",
      "\u001b[1;31mAttributeError\u001b[0m: 'NoneType' object has no attribute 'text'",
      "\nDuring handling of the above exception, another exception occurred:\n",
      "\u001b[1;31mAttributeError\u001b[0m                            Traceback (most recent call last)",
      "Input \u001b[1;32mIn [61]\u001b[0m, in \u001b[0;36m<cell line: 13>\u001b[1;34m()\u001b[0m\n\u001b[0;32m     19\u001b[0m     time\u001b[38;5;241m.\u001b[39msleep(\u001b[38;5;241m30\u001b[39m)\n\u001b[0;32m     20\u001b[0m     html \u001b[38;5;241m=\u001b[39m getHTML(link)\n\u001b[1;32m---> 21\u001b[0m     id_s \u001b[38;5;241m=\u001b[39m \u001b[43mgetID\u001b[49m\u001b[43m(\u001b[49m\u001b[43mhtml\u001b[49m\u001b[43m)\u001b[49m\n\u001b[0;32m     22\u001b[0m specifications \u001b[38;5;241m=\u001b[39m getSpecifications(html)\n\u001b[0;32m     23\u001b[0m file_writer \u001b[38;5;241m=\u001b[39m csv\u001b[38;5;241m.\u001b[39mwriter(w_file, delimiter \u001b[38;5;241m=\u001b[39m \u001b[38;5;124m\"\u001b[39m\u001b[38;5;124m;\u001b[39m\u001b[38;5;124m\"\u001b[39m, lineterminator\u001b[38;5;241m=\u001b[39m\u001b[38;5;124m\"\u001b[39m\u001b[38;5;130;01m\\r\u001b[39;00m\u001b[38;5;124m\"\u001b[39m)\n",
      "Input \u001b[1;32mIn [53]\u001b[0m, in \u001b[0;36mgetID\u001b[1;34m(HTML)\u001b[0m\n\u001b[0;32m     10\u001b[0m     num \u001b[38;5;241m=\u001b[39m BeautifulSoup(HTML)\u001b[38;5;241m.\u001b[39mfind(\u001b[38;5;124m'\u001b[39m\u001b[38;5;124mdiv\u001b[39m\u001b[38;5;124m'\u001b[39m, {\u001b[38;5;124m'\u001b[39m\u001b[38;5;124mclass\u001b[39m\u001b[38;5;124m'\u001b[39m: \u001b[38;5;124m'\u001b[39m\u001b[38;5;124mProductHeader__product-id\u001b[39m\u001b[38;5;124m'\u001b[39m})\u001b[38;5;241m.\u001b[39mtext\n\u001b[0;32m     11\u001b[0m \u001b[38;5;28;01mexcept\u001b[39;00m:\n\u001b[1;32m---> 12\u001b[0m     num \u001b[38;5;241m=\u001b[39m \u001b[43mBeautifulSoup\u001b[49m\u001b[43m(\u001b[49m\u001b[43mHTML\u001b[49m\u001b[43m)\u001b[49m\u001b[38;5;241;43m.\u001b[39;49m\u001b[43mfind\u001b[49m\u001b[43m(\u001b[49m\u001b[38;5;124;43m'\u001b[39;49m\u001b[38;5;124;43mdiv\u001b[39;49m\u001b[38;5;124;43m'\u001b[39;49m\u001b[43m,\u001b[49m\u001b[43m \u001b[49m\u001b[43m{\u001b[49m\u001b[38;5;124;43m'\u001b[39;49m\u001b[38;5;124;43mclass\u001b[39;49m\u001b[38;5;124;43m'\u001b[39;49m\u001b[43m:\u001b[49m\u001b[43m \u001b[49m\u001b[38;5;124;43m'\u001b[39;49m\u001b[38;5;124;43mProductPageUsersActivity__product-id\u001b[39;49m\u001b[38;5;124;43m'\u001b[39;49m\u001b[43m}\u001b[49m\u001b[43m)\u001b[49m\u001b[38;5;241;43m.\u001b[39;49m\u001b[43mtext\u001b[49m\n\u001b[0;32m     13\u001b[0m num \u001b[38;5;241m=\u001b[39m num\u001b[38;5;241m.\u001b[39mstrip()\n\u001b[0;32m     14\u001b[0m num2 \u001b[38;5;241m=\u001b[39m re\u001b[38;5;241m.\u001b[39msplit(\u001b[38;5;124m'\u001b[39m\u001b[38;5;124m:\u001b[39m\u001b[38;5;124m'\u001b[39m, num)\n",
      "\u001b[1;31mAttributeError\u001b[0m: 'NoneType' object has no attribute 'text'"
     ]
    }
   ],
   "source": [
    "from ipywidgets import IntProgress\n",
    "from IPython.display import display\n",
    "import csv\n",
    "from progress.bar import IncrementalBar\n",
    "from tqdm import tqdm\n",
    "\n",
    "#prgBar = IntProgress(min = 0, max = len(SSD_LINKS_LIST)) # Создаем прогрессбар\n",
    "#display(prgBar)\n",
    "#bar = IncrementalBar('Countdown', max = len(SSD_LINKS_LIST))\n",
    "\n",
    "SSD_LIST = []\n",
    "\n",
    "with open(\"ssds.csv\", mode=\"w\", encoding='cp1251') as w_file:\n",
    "    for link in tqdm(SSD_LINKS_LIST):\n",
    "        html = getHTML(link)\n",
    "        try:\n",
    "            id_s = getID(html)\n",
    "        except:\n",
    "            time.sleep(30)\n",
    "            html = getHTML(link)\n",
    "            id_s = getID(html)\n",
    "        specifications = getSpecifications(html)\n",
    "        file_writer = csv.writer(w_file, delimiter = \";\", lineterminator=\"\\r\")\n",
    "        to_write = {'ID': id_s, **specifications}\n",
    "        to_write_mas = []\n",
    "        for k,v in to_write.items():\n",
    "            to_write_mas.append(k + ':' + v)     \n",
    "        file_writer.writerow(to_write_mas)\n",
    "        #prgBar.value += 1\n",
    "        #bar.next()\n",
    "        time.sleep(2)\n",
    "#bar.finish()\n",
    "print('Program finished!')"
   ]
  },
  {
   "cell_type": "code",
   "execution_count": 60,
   "id": "ce73465c",
   "metadata": {},
   "outputs": [],
   "source": [
    "with open('html6.txt', 'w', encoding='utf-8') as f:\n",
    "    f.write(html)"
   ]
  },
  {
   "cell_type": "code",
   "execution_count": 45,
   "id": "761e9d0c",
   "metadata": {},
   "outputs": [
    {
     "data": {
      "text/plain": [
       "'https://www.citilink.ru/product/nakopitel-ssd-kingspec-pci-e-512gb-xf-512-m-2-2280-1742087/properties/'"
      ]
     },
     "execution_count": 45,
     "metadata": {},
     "output_type": "execute_result"
    }
   ],
   "source": [
    "link"
   ]
  },
  {
   "cell_type": "code",
   "execution_count": 47,
   "id": "ebffe1e5",
   "metadata": {},
   "outputs": [
    {
     "data": {
      "text/plain": [
       "'Mozilla/5.0 (Android; U; Android; pl; rv:1.9.2.8) Gecko/20100202 Firefox/3.5.8'"
      ]
     },
     "execution_count": 47,
     "metadata": {},
     "output_type": "execute_result"
    }
   ],
   "source": [
    "agent"
   ]
  },
  {
   "cell_type": "code",
   "execution_count": null,
   "id": "1d9e5e7e",
   "metadata": {},
   "outputs": [],
   "source": [
    "html"
   ]
  }
 ],
 "metadata": {
  "kernelspec": {
   "display_name": "Python 3 (ipykernel)",
   "language": "python",
   "name": "python3"
  },
  "language_info": {
   "codemirror_mode": {
    "name": "ipython",
    "version": 3
   },
   "file_extension": ".py",
   "mimetype": "text/x-python",
   "name": "python",
   "nbconvert_exporter": "python",
   "pygments_lexer": "ipython3",
   "version": "3.9.12"
  }
 },
 "nbformat": 4,
 "nbformat_minor": 5
}
